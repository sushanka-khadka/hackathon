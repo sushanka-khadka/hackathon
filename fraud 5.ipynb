{
 "cells": [
  {
   "cell_type": "code",
   "execution_count": 2,
   "id": "f5cd441b-2bfd-419f-b481-0e99be87fe0b",
   "metadata": {},
   "outputs": [],
   "source": [
    "import pandas as pd\n",
    "import numpy as np\n",
    "import matplotlib.pyplot as plt"
   ]
  },
  {
   "cell_type": "markdown",
   "id": "25947069",
   "metadata": {},
   "source": [
    "#### Import Datasets\n"
   ]
  },
  {
   "cell_type": "code",
   "execution_count": 3,
   "id": "a5eb4253",
   "metadata": {},
   "outputs": [],
   "source": [
    "all_df= pd.read_csv('../datasets/synthetic_fraud_data.csv')"
   ]
  },
  {
   "cell_type": "code",
   "execution_count": 4,
   "id": "7253c3cb",
   "metadata": {},
   "outputs": [
    {
     "data": {
      "text/plain": [
       "(7483766, 24)"
      ]
     },
     "execution_count": 4,
     "metadata": {},
     "output_type": "execute_result"
    }
   ],
   "source": [
    "all_df.shape"
   ]
  },
  {
   "cell_type": "code",
   "execution_count": 5,
   "id": "03f05b40",
   "metadata": {},
   "outputs": [
    {
     "data": {
      "text/plain": [
       "(4490260, 24)"
      ]
     },
     "execution_count": 5,
     "metadata": {},
     "output_type": "execute_result"
    }
   ],
   "source": [
    "# df= all_df.sample(frac=0.1, random_state=42)\n",
    "df= all_df.sample(frac=0.6)\n",
    "df.shape"
   ]
  },
  {
   "cell_type": "markdown",
   "id": "a8387105",
   "metadata": {
    "jp-MarkdownHeadingCollapsed": true
   },
   "source": [
    "#### Feature Engineering"
   ]
  },
  {
   "cell_type": "code",
   "execution_count": 6,
   "id": "5cbc1aa0-5a1d-411f-be46-52cc3f54273c",
   "metadata": {},
   "outputs": [
    {
     "data": {
      "text/plain": [
       "Index(['transaction_id', 'customer_id', 'card_number', 'timestamp',\n",
       "       'merchant_category', 'merchant_type', 'merchant', 'amount', 'currency',\n",
       "       'country', 'city', 'city_size', 'card_type', 'card_present', 'device',\n",
       "       'channel', 'device_fingerprint', 'ip_address', 'distance_from_home',\n",
       "       'high_risk_merchant', 'transaction_hour', 'weekend_transaction',\n",
       "       'velocity_last_hour', 'is_fraud'],\n",
       "      dtype='object')"
      ]
     },
     "execution_count": 6,
     "metadata": {},
     "output_type": "execute_result"
    }
   ],
   "source": [
    "df.columns"
   ]
  },
  {
   "cell_type": "code",
   "execution_count": 7,
   "id": "d7ad339c-1901-4298-89b3-a4c2ad297109",
   "metadata": {},
   "outputs": [
    {
     "data": {
      "text/html": [
       "<div>\n",
       "<style scoped>\n",
       "    .dataframe tbody tr th:only-of-type {\n",
       "        vertical-align: middle;\n",
       "    }\n",
       "\n",
       "    .dataframe tbody tr th {\n",
       "        vertical-align: top;\n",
       "    }\n",
       "\n",
       "    .dataframe thead th {\n",
       "        text-align: right;\n",
       "    }\n",
       "</style>\n",
       "<table border=\"1\" class=\"dataframe\">\n",
       "  <thead>\n",
       "    <tr style=\"text-align: right;\">\n",
       "      <th></th>\n",
       "      <th>transaction_id</th>\n",
       "      <th>customer_id</th>\n",
       "      <th>card_number</th>\n",
       "      <th>timestamp</th>\n",
       "      <th>merchant_category</th>\n",
       "      <th>merchant_type</th>\n",
       "      <th>merchant</th>\n",
       "      <th>amount</th>\n",
       "      <th>currency</th>\n",
       "      <th>country</th>\n",
       "      <th>...</th>\n",
       "      <th>device</th>\n",
       "      <th>channel</th>\n",
       "      <th>device_fingerprint</th>\n",
       "      <th>ip_address</th>\n",
       "      <th>distance_from_home</th>\n",
       "      <th>high_risk_merchant</th>\n",
       "      <th>transaction_hour</th>\n",
       "      <th>weekend_transaction</th>\n",
       "      <th>velocity_last_hour</th>\n",
       "      <th>is_fraud</th>\n",
       "    </tr>\n",
       "  </thead>\n",
       "  <tbody>\n",
       "    <tr>\n",
       "      <th>6480483</th>\n",
       "      <td>TX_33834d29</td>\n",
       "      <td>CUST_80474</td>\n",
       "      <td>4570511070918717</td>\n",
       "      <td>2024-10-26 19:50:49.045686+00:00</td>\n",
       "      <td>Education</td>\n",
       "      <td>online</td>\n",
       "      <td>MasterClass</td>\n",
       "      <td>691.19</td>\n",
       "      <td>SGD</td>\n",
       "      <td>Singapore</td>\n",
       "      <td>...</td>\n",
       "      <td>Safari</td>\n",
       "      <td>web</td>\n",
       "      <td>a99e96e0ffebd9ff4d70650b1da3a7c9</td>\n",
       "      <td>108.138.180.122</td>\n",
       "      <td>0</td>\n",
       "      <td>False</td>\n",
       "      <td>19</td>\n",
       "      <td>True</td>\n",
       "      <td>{'num_transactions': 118, 'total_amount': 3752...</td>\n",
       "      <td>False</td>\n",
       "    </tr>\n",
       "    <tr>\n",
       "      <th>5397118</th>\n",
       "      <td>TX_6cc07933</td>\n",
       "      <td>CUST_50186</td>\n",
       "      <td>6714757295166143</td>\n",
       "      <td>2024-10-22 09:48:55.061560+00:00</td>\n",
       "      <td>Grocery</td>\n",
       "      <td>online</td>\n",
       "      <td>Instacart</td>\n",
       "      <td>472.36</td>\n",
       "      <td>CAD</td>\n",
       "      <td>Canada</td>\n",
       "      <td>...</td>\n",
       "      <td>Safari</td>\n",
       "      <td>web</td>\n",
       "      <td>98ba7848324fee22ea59d5735405e956</td>\n",
       "      <td>6.31.169.171</td>\n",
       "      <td>0</td>\n",
       "      <td>False</td>\n",
       "      <td>9</td>\n",
       "      <td>False</td>\n",
       "      <td>{'num_transactions': 267, 'total_amount': 9824...</td>\n",
       "      <td>False</td>\n",
       "    </tr>\n",
       "    <tr>\n",
       "      <th>2729044</th>\n",
       "      <td>TX_ca96de3e</td>\n",
       "      <td>CUST_36311</td>\n",
       "      <td>377495852165494</td>\n",
       "      <td>2024-10-11 08:41:03.483829+00:00</td>\n",
       "      <td>Education</td>\n",
       "      <td>supplies</td>\n",
       "      <td>Barnes &amp; Noble</td>\n",
       "      <td>367.40</td>\n",
       "      <td>EUR</td>\n",
       "      <td>Germany</td>\n",
       "      <td>...</td>\n",
       "      <td>Chrome</td>\n",
       "      <td>web</td>\n",
       "      <td>6da0901cc29204c592368cdd51108bbd</td>\n",
       "      <td>189.190.107.195</td>\n",
       "      <td>1</td>\n",
       "      <td>False</td>\n",
       "      <td>8</td>\n",
       "      <td>False</td>\n",
       "      <td>{'num_transactions': 727, 'total_amount': 2261...</td>\n",
       "      <td>False</td>\n",
       "    </tr>\n",
       "    <tr>\n",
       "      <th>5061356</th>\n",
       "      <td>TX_7ae81536</td>\n",
       "      <td>CUST_75433</td>\n",
       "      <td>5461777822781617</td>\n",
       "      <td>2024-10-20 23:07:58.108767+00:00</td>\n",
       "      <td>Entertainment</td>\n",
       "      <td>streaming</td>\n",
       "      <td>Spotify</td>\n",
       "      <td>52.77</td>\n",
       "      <td>EUR</td>\n",
       "      <td>Germany</td>\n",
       "      <td>...</td>\n",
       "      <td>Edge</td>\n",
       "      <td>web</td>\n",
       "      <td>0a98468e4338d76de9e82051b2b545da</td>\n",
       "      <td>22.107.50.156</td>\n",
       "      <td>0</td>\n",
       "      <td>True</td>\n",
       "      <td>23</td>\n",
       "      <td>True</td>\n",
       "      <td>{'num_transactions': 386, 'total_amount': 9335...</td>\n",
       "      <td>False</td>\n",
       "    </tr>\n",
       "    <tr>\n",
       "      <th>6635427</th>\n",
       "      <td>TX_30e162de</td>\n",
       "      <td>CUST_51500</td>\n",
       "      <td>5462951307146229</td>\n",
       "      <td>2024-10-27 12:35:00.146073+00:00</td>\n",
       "      <td>Retail</td>\n",
       "      <td>physical</td>\n",
       "      <td>Costco</td>\n",
       "      <td>630.99</td>\n",
       "      <td>SGD</td>\n",
       "      <td>Singapore</td>\n",
       "      <td>...</td>\n",
       "      <td>Safari</td>\n",
       "      <td>web</td>\n",
       "      <td>46a1a4480d6cce7c59ca4798003399dd</td>\n",
       "      <td>86.146.150.39</td>\n",
       "      <td>0</td>\n",
       "      <td>False</td>\n",
       "      <td>12</td>\n",
       "      <td>True</td>\n",
       "      <td>{'num_transactions': 90, 'total_amount': 11261...</td>\n",
       "      <td>False</td>\n",
       "    </tr>\n",
       "  </tbody>\n",
       "</table>\n",
       "<p>5 rows × 24 columns</p>\n",
       "</div>"
      ],
      "text/plain": [
       "        transaction_id customer_id       card_number  \\\n",
       "6480483    TX_33834d29  CUST_80474  4570511070918717   \n",
       "5397118    TX_6cc07933  CUST_50186  6714757295166143   \n",
       "2729044    TX_ca96de3e  CUST_36311   377495852165494   \n",
       "5061356    TX_7ae81536  CUST_75433  5461777822781617   \n",
       "6635427    TX_30e162de  CUST_51500  5462951307146229   \n",
       "\n",
       "                                timestamp merchant_category merchant_type  \\\n",
       "6480483  2024-10-26 19:50:49.045686+00:00         Education        online   \n",
       "5397118  2024-10-22 09:48:55.061560+00:00           Grocery        online   \n",
       "2729044  2024-10-11 08:41:03.483829+00:00         Education      supplies   \n",
       "5061356  2024-10-20 23:07:58.108767+00:00     Entertainment     streaming   \n",
       "6635427  2024-10-27 12:35:00.146073+00:00            Retail      physical   \n",
       "\n",
       "               merchant  amount currency    country  ...  device channel  \\\n",
       "6480483     MasterClass  691.19      SGD  Singapore  ...  Safari     web   \n",
       "5397118       Instacart  472.36      CAD     Canada  ...  Safari     web   \n",
       "2729044  Barnes & Noble  367.40      EUR    Germany  ...  Chrome     web   \n",
       "5061356         Spotify   52.77      EUR    Germany  ...    Edge     web   \n",
       "6635427          Costco  630.99      SGD  Singapore  ...  Safari     web   \n",
       "\n",
       "                       device_fingerprint       ip_address distance_from_home  \\\n",
       "6480483  a99e96e0ffebd9ff4d70650b1da3a7c9  108.138.180.122                  0   \n",
       "5397118  98ba7848324fee22ea59d5735405e956     6.31.169.171                  0   \n",
       "2729044  6da0901cc29204c592368cdd51108bbd  189.190.107.195                  1   \n",
       "5061356  0a98468e4338d76de9e82051b2b545da    22.107.50.156                  0   \n",
       "6635427  46a1a4480d6cce7c59ca4798003399dd    86.146.150.39                  0   \n",
       "\n",
       "        high_risk_merchant transaction_hour weekend_transaction  \\\n",
       "6480483              False               19                True   \n",
       "5397118              False                9               False   \n",
       "2729044              False                8               False   \n",
       "5061356               True               23                True   \n",
       "6635427              False               12                True   \n",
       "\n",
       "                                        velocity_last_hour  is_fraud  \n",
       "6480483  {'num_transactions': 118, 'total_amount': 3752...     False  \n",
       "5397118  {'num_transactions': 267, 'total_amount': 9824...     False  \n",
       "2729044  {'num_transactions': 727, 'total_amount': 2261...     False  \n",
       "5061356  {'num_transactions': 386, 'total_amount': 9335...     False  \n",
       "6635427  {'num_transactions': 90, 'total_amount': 11261...     False  \n",
       "\n",
       "[5 rows x 24 columns]"
      ]
     },
     "execution_count": 7,
     "metadata": {},
     "output_type": "execute_result"
    }
   ],
   "source": [
    "df.head()"
   ]
  },
  {
   "cell_type": "markdown",
   "id": "d3ea1a5b",
   "metadata": {
    "jp-MarkdownHeadingCollapsed": true
   },
   "source": [
    "#### features and label"
   ]
  },
  {
   "cell_type": "code",
   "execution_count": 8,
   "id": "d59a0e25",
   "metadata": {},
   "outputs": [
    {
     "data": {
      "text/plain": [
       "merchant_type\n",
       "online       841110\n",
       "physical     561144\n",
       "pharmacy     280903\n",
       "medical      280822\n",
       "local        280453\n",
       "major        280326\n",
       "supplies     279897\n",
       "events       187982\n",
       "streaming    187667\n",
       "fast_food    187601\n",
       "casual       187349\n",
       "gaming       187161\n",
       "premium      186517\n",
       "booking      140688\n",
       "transport    140424\n",
       "hotels       140221\n",
       "airlines     139995\n",
       "Name: count, dtype: int64"
      ]
     },
     "execution_count": 8,
     "metadata": {},
     "output_type": "execute_result"
    }
   ],
   "source": [
    "df.merchant_type.value_counts()"
   ]
  },
  {
   "cell_type": "markdown",
   "id": "a453714e",
   "metadata": {},
   "source": [
    "col_to_drop= ['transaction_id', 'customer_id', 'card_number', 'timestamp', 'ip_address', 'velocity_last_hour']\n",
    "one_enc= ['merchant_category', 'card_type', 'device', 'channel']\n",
    "ord_enc= ['city_size']\n",
    "freq_enc=  ['merchant_type', 'merchant', 'device_fingerprint', 'currency', 'country','city']\n",
    "label_enc= ['card_present', 'high_risk_merchant', 'weekend_transaction']\n",
    "\n",
    "num_cols= ['dis_from_home', 'transacton_hr', 'amount']"
   ]
  },
  {
   "cell_type": "code",
   "execution_count": 9,
   "id": "e2a71fa3",
   "metadata": {},
   "outputs": [],
   "source": [
    "col_to_drop= ['transaction_id', 'customer_id', 'card_number', 'timestamp', 'ip_address', 'velocity_last_hour','device_fingerprint' ]\n",
    "one_enc= ['merchant_category', 'card_type', 'device', 'channel']\n",
    "ord_enc= ['city_size']\n",
    "freq_enc=  ['merchant_type', 'merchant',  'currency', 'country','city']\n",
    "label_enc= ['card_present', 'high_risk_merchant', 'weekend_transaction']\n",
    "\n",
    "num_cols= ['distance_from_home', 'transaction_hour', 'amount']"
   ]
  },
  {
   "cell_type": "code",
   "execution_count": 10,
   "id": "80756b43",
   "metadata": {},
   "outputs": [],
   "source": [
    "from sklearn.model_selection import train_test_split\n",
    "from sklearn.compose import ColumnTransformer\n",
    "from sklearn.preprocessing import OneHotEncoder, OrdinalEncoder, LabelEncoder, StandardScaler"
   ]
  },
  {
   "cell_type": "markdown",
   "id": "e603d313",
   "metadata": {
    "jp-MarkdownHeadingCollapsed": true
   },
   "source": [
    "#### feature and label"
   ]
  },
  {
   "cell_type": "code",
   "execution_count": 11,
   "id": "be6ee9b0",
   "metadata": {},
   "outputs": [],
   "source": [
    "df.drop(col_to_drop, axis=1, inplace=True)\n",
    "\n",
    "X= df.drop('is_fraud', axis=1)\n",
    "y= df.is_fraud"
   ]
  },
  {
   "cell_type": "markdown",
   "id": "0edfec52",
   "metadata": {
    "jp-MarkdownHeadingCollapsed": true
   },
   "source": [
    "#### train test split"
   ]
  },
  {
   "cell_type": "code",
   "execution_count": 12,
   "id": "2dd5be9e",
   "metadata": {},
   "outputs": [],
   "source": [
    "X_train, X_test, y_train, y_test= train_test_split(X, y, test_size= 0.2)"
   ]
  },
  {
   "cell_type": "code",
   "execution_count": 13,
   "id": "5f2d0cb8",
   "metadata": {},
   "outputs": [
    {
     "data": {
      "text/html": [
       "<div>\n",
       "<style scoped>\n",
       "    .dataframe tbody tr th:only-of-type {\n",
       "        vertical-align: middle;\n",
       "    }\n",
       "\n",
       "    .dataframe tbody tr th {\n",
       "        vertical-align: top;\n",
       "    }\n",
       "\n",
       "    .dataframe thead th {\n",
       "        text-align: right;\n",
       "    }\n",
       "</style>\n",
       "<table border=\"1\" class=\"dataframe\">\n",
       "  <thead>\n",
       "    <tr style=\"text-align: right;\">\n",
       "      <th></th>\n",
       "      <th>merchant_category</th>\n",
       "      <th>merchant_type</th>\n",
       "      <th>merchant</th>\n",
       "      <th>amount</th>\n",
       "      <th>currency</th>\n",
       "      <th>country</th>\n",
       "      <th>city</th>\n",
       "      <th>city_size</th>\n",
       "      <th>card_type</th>\n",
       "      <th>card_present</th>\n",
       "      <th>device</th>\n",
       "      <th>channel</th>\n",
       "      <th>distance_from_home</th>\n",
       "      <th>high_risk_merchant</th>\n",
       "      <th>transaction_hour</th>\n",
       "      <th>weekend_transaction</th>\n",
       "    </tr>\n",
       "  </thead>\n",
       "  <tbody>\n",
       "    <tr>\n",
       "      <th>3884527</th>\n",
       "      <td>Grocery</td>\n",
       "      <td>physical</td>\n",
       "      <td>Food Lion</td>\n",
       "      <td>655.55</td>\n",
       "      <td>BRL</td>\n",
       "      <td>Brazil</td>\n",
       "      <td>Unknown City</td>\n",
       "      <td>medium</td>\n",
       "      <td>Basic Debit</td>\n",
       "      <td>False</td>\n",
       "      <td>Safari</td>\n",
       "      <td>web</td>\n",
       "      <td>1</td>\n",
       "      <td>False</td>\n",
       "      <td>2</td>\n",
       "      <td>False</td>\n",
       "    </tr>\n",
       "    <tr>\n",
       "      <th>5983158</th>\n",
       "      <td>Grocery</td>\n",
       "      <td>physical</td>\n",
       "      <td>Whole Foods</td>\n",
       "      <td>347.78</td>\n",
       "      <td>AUD</td>\n",
       "      <td>Australia</td>\n",
       "      <td>Unknown City</td>\n",
       "      <td>medium</td>\n",
       "      <td>Gold Credit</td>\n",
       "      <td>False</td>\n",
       "      <td>Firefox</td>\n",
       "      <td>web</td>\n",
       "      <td>0</td>\n",
       "      <td>False</td>\n",
       "      <td>18</td>\n",
       "      <td>False</td>\n",
       "    </tr>\n",
       "  </tbody>\n",
       "</table>\n",
       "</div>"
      ],
      "text/plain": [
       "        merchant_category merchant_type     merchant  amount currency  \\\n",
       "3884527           Grocery      physical    Food Lion  655.55      BRL   \n",
       "5983158           Grocery      physical  Whole Foods  347.78      AUD   \n",
       "\n",
       "           country          city city_size    card_type  card_present  \\\n",
       "3884527     Brazil  Unknown City    medium  Basic Debit         False   \n",
       "5983158  Australia  Unknown City    medium  Gold Credit         False   \n",
       "\n",
       "          device channel  distance_from_home  high_risk_merchant  \\\n",
       "3884527   Safari     web                   1               False   \n",
       "5983158  Firefox     web                   0               False   \n",
       "\n",
       "         transaction_hour  weekend_transaction  \n",
       "3884527                 2                False  \n",
       "5983158                18                False  "
      ]
     },
     "execution_count": 13,
     "metadata": {},
     "output_type": "execute_result"
    }
   ],
   "source": [
    "X_train[:2]"
   ]
  },
  {
   "cell_type": "markdown",
   "id": "1e7b4004",
   "metadata": {},
   "source": []
  },
  {
   "cell_type": "markdown",
   "id": "4c11fdb4",
   "metadata": {},
   "source": [
    "#### frequency encoding"
   ]
  },
  {
   "cell_type": "code",
   "execution_count": 14,
   "id": "756e1082",
   "metadata": {},
   "outputs": [],
   "source": [
    "# frequency encoding\n",
    "all_freq_map= {}\n",
    "for col in freq_enc:\n",
    "    freq_map= X_train[col].value_counts().to_dict()\n",
    "    all_freq_map[col]= freq_map     # save to all_freq_map  and dump later \n",
    "    X_train[col]= X_train[col].map(freq_map)\n",
    "    \n",
    "    # replace Nan with minimum value (for unseen data)    \n",
    "    X_test[col]= X_test[col].map(freq_map).fillna(min(freq_map.values()))\n",
    "    \n",
    "# remaining encoding"
   ]
  },
  {
   "cell_type": "markdown",
   "id": "5443cd27",
   "metadata": {
    "jp-MarkdownHeadingCollapsed": true
   },
   "source": [
    "#### feature encoding"
   ]
  },
  {
   "cell_type": "code",
   "execution_count": 15,
   "id": "69f525f4-2b91-4e56-a6f8-45f26ebe9492",
   "metadata": {},
   "outputs": [],
   "source": [
    "ct= ColumnTransformer(transformers=[\n",
    "    ('one-hot', OneHotEncoder(), one_enc),\n",
    "    ('ordinal', OrdinalEncoder(categories= [['medium', 'large']]), ord_enc),\n",
    "    # ('bin-value', LabelEncoder(), label_enc)\n",
    "    \n",
    "], remainder='passthrough')\n",
    "\n",
    "le= LabelEncoder()\n",
    "sc= StandardScaler()\n",
    "\n",
    "# encode features\n",
    "X_train_enc= ct.fit_transform(X_train)\n",
    "X_test_enc= ct.transform(X_test)\n",
    "\n",
    "# encode label \n",
    "y_train_enc= le.fit_transform(y_train)\n",
    "y_test_enc= le.transform(y_test)\n",
    "\n",
    "# standardarize \n",
    "X_train_enc= sc.fit_transform(X_train_enc)  # only numeric and frequency encoded columns only \n",
    "X_test_enc= sc.transform(X_test_enc)"
   ]
  },
  {
   "cell_type": "markdown",
   "id": "996c98ed",
   "metadata": {},
   "source": [
    "X_train_enc= ct.fit_transform(X_train[:1000])\n",
    "X_test_enc= ct.fit_transform(X_test[:1000])\n",
    "\n",
    "X_train_enc= sc.fit_transform(X_train_enc)\n",
    "X_test_enc= sc.transform(X_test_enc)\n",
    "\n",
    "\n",
    "y_train_enc= le.fit_transform(y_train[:1000])\n",
    "y_test_enc= le.transform(y_test[:1000])mm"
   ]
  },
  {
   "cell_type": "code",
   "execution_count": 16,
   "id": "f2398fff",
   "metadata": {},
   "outputs": [
    {
     "data": {
      "text/plain": [
       "array([[-0.37745396, -0.37860345, -0.37775714, ..., -0.57811445,\n",
       "        -1.55304221, -0.58918671],\n",
       "       [-0.37745396, -0.37860345, -0.37775714, ..., -0.57811445,\n",
       "         0.89370682, -0.58918671],\n",
       "       [-0.37745396, -0.37860345, -0.37775714, ..., -0.57811445,\n",
       "        -0.3296677 ,  1.69725485],\n",
       "       ...,\n",
       "       [-0.37745396, -0.37860345, -0.37775714, ..., -0.57811445,\n",
       "        -1.70596403, -0.58918671],\n",
       "       [-0.37745396, -0.37860345,  2.64720347, ..., -0.57811445,\n",
       "        -1.70596403, -0.58918671],\n",
       "       [-0.37745396,  2.64128604, -0.37775714, ...,  1.72976128,\n",
       "         0.740785  , -0.58918671]])"
      ]
     },
     "execution_count": 16,
     "metadata": {},
     "output_type": "execute_result"
    }
   ],
   "source": [
    "X_train_enc"
   ]
  },
  {
   "cell_type": "markdown",
   "id": "4cc570bf",
   "metadata": {
    "jp-MarkdownHeadingCollapsed": true
   },
   "source": [
    "#### get feature names"
   ]
  },
  {
   "cell_type": "code",
   "execution_count": 17,
   "id": "b7ec760f",
   "metadata": {},
   "outputs": [],
   "source": [
    "# Get feature names after transformation\n",
    "feature_names = (ct.named_transformers_['one-hot'].get_feature_names_out(one_enc).tolist() + \n",
    "                ['city_size'] + \n",
    "                [col for col in X.columns if col not in one_enc + ord_enc])\n",
    "\n",
    "X_train_enc= pd.DataFrame(data=X_train_enc, columns=feature_names)\n",
    "X_test_enc= pd.DataFrame(data=X_test_enc, columns=feature_names)"
   ]
  },
  {
   "cell_type": "code",
   "execution_count": 18,
   "id": "8e39d626",
   "metadata": {},
   "outputs": [
    {
     "data": {
      "text/html": [
       "<div>\n",
       "<style scoped>\n",
       "    .dataframe tbody tr th:only-of-type {\n",
       "        vertical-align: middle;\n",
       "    }\n",
       "\n",
       "    .dataframe tbody tr th {\n",
       "        vertical-align: top;\n",
       "    }\n",
       "\n",
       "    .dataframe thead th {\n",
       "        text-align: right;\n",
       "    }\n",
       "</style>\n",
       "<table border=\"1\" class=\"dataframe\">\n",
       "  <thead>\n",
       "    <tr style=\"text-align: right;\">\n",
       "      <th></th>\n",
       "      <th>merchant_category_Education</th>\n",
       "      <th>merchant_category_Entertainment</th>\n",
       "      <th>merchant_category_Gas</th>\n",
       "      <th>merchant_category_Grocery</th>\n",
       "      <th>merchant_category_Healthcare</th>\n",
       "      <th>merchant_category_Restaurant</th>\n",
       "      <th>merchant_category_Retail</th>\n",
       "      <th>merchant_category_Travel</th>\n",
       "      <th>card_type_Basic Credit</th>\n",
       "      <th>card_type_Basic Debit</th>\n",
       "      <th>...</th>\n",
       "      <th>merchant</th>\n",
       "      <th>amount</th>\n",
       "      <th>currency</th>\n",
       "      <th>country</th>\n",
       "      <th>city</th>\n",
       "      <th>card_present</th>\n",
       "      <th>distance_from_home</th>\n",
       "      <th>high_risk_merchant</th>\n",
       "      <th>transaction_hour</th>\n",
       "      <th>weekend_transaction</th>\n",
       "    </tr>\n",
       "  </thead>\n",
       "  <tbody>\n",
       "    <tr>\n",
       "      <th>0</th>\n",
       "      <td>-0.377454</td>\n",
       "      <td>2.641286</td>\n",
       "      <td>-0.377757</td>\n",
       "      <td>-0.377809</td>\n",
       "      <td>-0.378013</td>\n",
       "      <td>-0.377783</td>\n",
       "      <td>-0.378114</td>\n",
       "      <td>-0.378183</td>\n",
       "      <td>2.069307</td>\n",
       "      <td>-0.510802</td>\n",
       "      <td>...</td>\n",
       "      <td>-0.615936</td>\n",
       "      <td>-0.268049</td>\n",
       "      <td>1.775879</td>\n",
       "      <td>-0.917902</td>\n",
       "      <td>0.267772</td>\n",
       "      <td>-0.30889</td>\n",
       "      <td>-0.689716</td>\n",
       "      <td>1.729761</td>\n",
       "      <td>-0.176746</td>\n",
       "      <td>-0.589187</td>\n",
       "    </tr>\n",
       "    <tr>\n",
       "      <th>1</th>\n",
       "      <td>-0.377454</td>\n",
       "      <td>2.641286</td>\n",
       "      <td>-0.377757</td>\n",
       "      <td>-0.377809</td>\n",
       "      <td>-0.378013</td>\n",
       "      <td>-0.377783</td>\n",
       "      <td>-0.378114</td>\n",
       "      <td>-0.378183</td>\n",
       "      <td>-0.483254</td>\n",
       "      <td>-0.510802</td>\n",
       "      <td>...</td>\n",
       "      <td>-0.625045</td>\n",
       "      <td>-0.263055</td>\n",
       "      <td>1.775879</td>\n",
       "      <td>-0.799007</td>\n",
       "      <td>0.267772</td>\n",
       "      <td>-0.30889</td>\n",
       "      <td>-0.689716</td>\n",
       "      <td>1.729761</td>\n",
       "      <td>1.505394</td>\n",
       "      <td>-0.589187</td>\n",
       "    </tr>\n",
       "  </tbody>\n",
       "</table>\n",
       "<p>2 rows × 37 columns</p>\n",
       "</div>"
      ],
      "text/plain": [
       "   merchant_category_Education  merchant_category_Entertainment  \\\n",
       "0                    -0.377454                         2.641286   \n",
       "1                    -0.377454                         2.641286   \n",
       "\n",
       "   merchant_category_Gas  merchant_category_Grocery  \\\n",
       "0              -0.377757                  -0.377809   \n",
       "1              -0.377757                  -0.377809   \n",
       "\n",
       "   merchant_category_Healthcare  merchant_category_Restaurant  \\\n",
       "0                     -0.378013                     -0.377783   \n",
       "1                     -0.378013                     -0.377783   \n",
       "\n",
       "   merchant_category_Retail  merchant_category_Travel  card_type_Basic Credit  \\\n",
       "0                 -0.378114                 -0.378183                2.069307   \n",
       "1                 -0.378114                 -0.378183               -0.483254   \n",
       "\n",
       "   card_type_Basic Debit  ...  merchant    amount  currency   country  \\\n",
       "0              -0.510802  ... -0.615936 -0.268049  1.775879 -0.917902   \n",
       "1              -0.510802  ... -0.625045 -0.263055  1.775879 -0.799007   \n",
       "\n",
       "       city  card_present  distance_from_home  high_risk_merchant  \\\n",
       "0  0.267772      -0.30889           -0.689716            1.729761   \n",
       "1  0.267772      -0.30889           -0.689716            1.729761   \n",
       "\n",
       "   transaction_hour  weekend_transaction  \n",
       "0         -0.176746            -0.589187  \n",
       "1          1.505394            -0.589187  \n",
       "\n",
       "[2 rows x 37 columns]"
      ]
     },
     "execution_count": 18,
     "metadata": {},
     "output_type": "execute_result"
    }
   ],
   "source": [
    "X_test_enc[:2]"
   ]
  },
  {
   "cell_type": "code",
   "execution_count": 19,
   "id": "d486c8f2",
   "metadata": {},
   "outputs": [
    {
     "data": {
      "text/plain": [
       "array([0, 0, 0, ..., 1, 1, 1], dtype=int64)"
      ]
     },
     "execution_count": 19,
     "metadata": {},
     "output_type": "execute_result"
    }
   ],
   "source": [
    "y_train_enc"
   ]
  },
  {
   "cell_type": "code",
   "execution_count": 20,
   "id": "6322996b",
   "metadata": {},
   "outputs": [
    {
     "data": {
      "text/plain": [
       "array([[0.0, 0.0, 0.0, 1.0, 0.0, 0.0, 0.0, 0.0, 0.0, 1.0, 0.0, 0.0, 0.0,\n",
       "        0.0, 0.0, 0.0, 0.0, 0.0, 0.0, 0.0, 1.0, 0.0, 0.0, 0.0, 1.0, 0.0,\n",
       "        448973, 31916, 655.55, 386089, 386089, 3351872, False, 1, False,\n",
       "        2, False]], dtype=object)"
      ]
     },
     "execution_count": 20,
     "metadata": {},
     "output_type": "execute_result"
    }
   ],
   "source": [
    "ct.transform(X_train[:1])"
   ]
  },
  {
   "cell_type": "markdown",
   "id": "d93b2314",
   "metadata": {
    "jp-MarkdownHeadingCollapsed": true
   },
   "source": [
    "#### Build a model"
   ]
  },
  {
   "cell_type": "code",
   "execution_count": 21,
   "id": "09cb455f",
   "metadata": {},
   "outputs": [],
   "source": [
    "from sklearn.linear_model import LogisticRegression"
   ]
  },
  {
   "cell_type": "code",
   "execution_count": 22,
   "id": "9ff02419",
   "metadata": {},
   "outputs": [
    {
     "data": {
      "text/html": [
       "<style>#sk-container-id-1 {\n",
       "  /* Definition of color scheme common for light and dark mode */\n",
       "  --sklearn-color-text: black;\n",
       "  --sklearn-color-line: gray;\n",
       "  /* Definition of color scheme for unfitted estimators */\n",
       "  --sklearn-color-unfitted-level-0: #fff5e6;\n",
       "  --sklearn-color-unfitted-level-1: #f6e4d2;\n",
       "  --sklearn-color-unfitted-level-2: #ffe0b3;\n",
       "  --sklearn-color-unfitted-level-3: chocolate;\n",
       "  /* Definition of color scheme for fitted estimators */\n",
       "  --sklearn-color-fitted-level-0: #f0f8ff;\n",
       "  --sklearn-color-fitted-level-1: #d4ebff;\n",
       "  --sklearn-color-fitted-level-2: #b3dbfd;\n",
       "  --sklearn-color-fitted-level-3: cornflowerblue;\n",
       "\n",
       "  /* Specific color for light theme */\n",
       "  --sklearn-color-text-on-default-background: var(--sg-text-color, var(--theme-code-foreground, var(--jp-content-font-color1, black)));\n",
       "  --sklearn-color-background: var(--sg-background-color, var(--theme-background, var(--jp-layout-color0, white)));\n",
       "  --sklearn-color-border-box: var(--sg-text-color, var(--theme-code-foreground, var(--jp-content-font-color1, black)));\n",
       "  --sklearn-color-icon: #696969;\n",
       "\n",
       "  @media (prefers-color-scheme: dark) {\n",
       "    /* Redefinition of color scheme for dark theme */\n",
       "    --sklearn-color-text-on-default-background: var(--sg-text-color, var(--theme-code-foreground, var(--jp-content-font-color1, white)));\n",
       "    --sklearn-color-background: var(--sg-background-color, var(--theme-background, var(--jp-layout-color0, #111)));\n",
       "    --sklearn-color-border-box: var(--sg-text-color, var(--theme-code-foreground, var(--jp-content-font-color1, white)));\n",
       "    --sklearn-color-icon: #878787;\n",
       "  }\n",
       "}\n",
       "\n",
       "#sk-container-id-1 {\n",
       "  color: var(--sklearn-color-text);\n",
       "}\n",
       "\n",
       "#sk-container-id-1 pre {\n",
       "  padding: 0;\n",
       "}\n",
       "\n",
       "#sk-container-id-1 input.sk-hidden--visually {\n",
       "  border: 0;\n",
       "  clip: rect(1px 1px 1px 1px);\n",
       "  clip: rect(1px, 1px, 1px, 1px);\n",
       "  height: 1px;\n",
       "  margin: -1px;\n",
       "  overflow: hidden;\n",
       "  padding: 0;\n",
       "  position: absolute;\n",
       "  width: 1px;\n",
       "}\n",
       "\n",
       "#sk-container-id-1 div.sk-dashed-wrapped {\n",
       "  border: 1px dashed var(--sklearn-color-line);\n",
       "  margin: 0 0.4em 0.5em 0.4em;\n",
       "  box-sizing: border-box;\n",
       "  padding-bottom: 0.4em;\n",
       "  background-color: var(--sklearn-color-background);\n",
       "}\n",
       "\n",
       "#sk-container-id-1 div.sk-container {\n",
       "  /* jupyter's `normalize.less` sets `[hidden] { display: none; }`\n",
       "     but bootstrap.min.css set `[hidden] { display: none !important; }`\n",
       "     so we also need the `!important` here to be able to override the\n",
       "     default hidden behavior on the sphinx rendered scikit-learn.org.\n",
       "     See: https://github.com/scikit-learn/scikit-learn/issues/21755 */\n",
       "  display: inline-block !important;\n",
       "  position: relative;\n",
       "}\n",
       "\n",
       "#sk-container-id-1 div.sk-text-repr-fallback {\n",
       "  display: none;\n",
       "}\n",
       "\n",
       "div.sk-parallel-item,\n",
       "div.sk-serial,\n",
       "div.sk-item {\n",
       "  /* draw centered vertical line to link estimators */\n",
       "  background-image: linear-gradient(var(--sklearn-color-text-on-default-background), var(--sklearn-color-text-on-default-background));\n",
       "  background-size: 2px 100%;\n",
       "  background-repeat: no-repeat;\n",
       "  background-position: center center;\n",
       "}\n",
       "\n",
       "/* Parallel-specific style estimator block */\n",
       "\n",
       "#sk-container-id-1 div.sk-parallel-item::after {\n",
       "  content: \"\";\n",
       "  width: 100%;\n",
       "  border-bottom: 2px solid var(--sklearn-color-text-on-default-background);\n",
       "  flex-grow: 1;\n",
       "}\n",
       "\n",
       "#sk-container-id-1 div.sk-parallel {\n",
       "  display: flex;\n",
       "  align-items: stretch;\n",
       "  justify-content: center;\n",
       "  background-color: var(--sklearn-color-background);\n",
       "  position: relative;\n",
       "}\n",
       "\n",
       "#sk-container-id-1 div.sk-parallel-item {\n",
       "  display: flex;\n",
       "  flex-direction: column;\n",
       "}\n",
       "\n",
       "#sk-container-id-1 div.sk-parallel-item:first-child::after {\n",
       "  align-self: flex-end;\n",
       "  width: 50%;\n",
       "}\n",
       "\n",
       "#sk-container-id-1 div.sk-parallel-item:last-child::after {\n",
       "  align-self: flex-start;\n",
       "  width: 50%;\n",
       "}\n",
       "\n",
       "#sk-container-id-1 div.sk-parallel-item:only-child::after {\n",
       "  width: 0;\n",
       "}\n",
       "\n",
       "/* Serial-specific style estimator block */\n",
       "\n",
       "#sk-container-id-1 div.sk-serial {\n",
       "  display: flex;\n",
       "  flex-direction: column;\n",
       "  align-items: center;\n",
       "  background-color: var(--sklearn-color-background);\n",
       "  padding-right: 1em;\n",
       "  padding-left: 1em;\n",
       "}\n",
       "\n",
       "\n",
       "/* Toggleable style: style used for estimator/Pipeline/ColumnTransformer box that is\n",
       "clickable and can be expanded/collapsed.\n",
       "- Pipeline and ColumnTransformer use this feature and define the default style\n",
       "- Estimators will overwrite some part of the style using the `sk-estimator` class\n",
       "*/\n",
       "\n",
       "/* Pipeline and ColumnTransformer style (default) */\n",
       "\n",
       "#sk-container-id-1 div.sk-toggleable {\n",
       "  /* Default theme specific background. It is overwritten whether we have a\n",
       "  specific estimator or a Pipeline/ColumnTransformer */\n",
       "  background-color: var(--sklearn-color-background);\n",
       "}\n",
       "\n",
       "/* Toggleable label */\n",
       "#sk-container-id-1 label.sk-toggleable__label {\n",
       "  cursor: pointer;\n",
       "  display: block;\n",
       "  width: 100%;\n",
       "  margin-bottom: 0;\n",
       "  padding: 0.5em;\n",
       "  box-sizing: border-box;\n",
       "  text-align: center;\n",
       "}\n",
       "\n",
       "#sk-container-id-1 label.sk-toggleable__label-arrow:before {\n",
       "  /* Arrow on the left of the label */\n",
       "  content: \"▸\";\n",
       "  float: left;\n",
       "  margin-right: 0.25em;\n",
       "  color: var(--sklearn-color-icon);\n",
       "}\n",
       "\n",
       "#sk-container-id-1 label.sk-toggleable__label-arrow:hover:before {\n",
       "  color: var(--sklearn-color-text);\n",
       "}\n",
       "\n",
       "/* Toggleable content - dropdown */\n",
       "\n",
       "#sk-container-id-1 div.sk-toggleable__content {\n",
       "  max-height: 0;\n",
       "  max-width: 0;\n",
       "  overflow: hidden;\n",
       "  text-align: left;\n",
       "  /* unfitted */\n",
       "  background-color: var(--sklearn-color-unfitted-level-0);\n",
       "}\n",
       "\n",
       "#sk-container-id-1 div.sk-toggleable__content.fitted {\n",
       "  /* fitted */\n",
       "  background-color: var(--sklearn-color-fitted-level-0);\n",
       "}\n",
       "\n",
       "#sk-container-id-1 div.sk-toggleable__content pre {\n",
       "  margin: 0.2em;\n",
       "  border-radius: 0.25em;\n",
       "  color: var(--sklearn-color-text);\n",
       "  /* unfitted */\n",
       "  background-color: var(--sklearn-color-unfitted-level-0);\n",
       "}\n",
       "\n",
       "#sk-container-id-1 div.sk-toggleable__content.fitted pre {\n",
       "  /* unfitted */\n",
       "  background-color: var(--sklearn-color-fitted-level-0);\n",
       "}\n",
       "\n",
       "#sk-container-id-1 input.sk-toggleable__control:checked~div.sk-toggleable__content {\n",
       "  /* Expand drop-down */\n",
       "  max-height: 200px;\n",
       "  max-width: 100%;\n",
       "  overflow: auto;\n",
       "}\n",
       "\n",
       "#sk-container-id-1 input.sk-toggleable__control:checked~label.sk-toggleable__label-arrow:before {\n",
       "  content: \"▾\";\n",
       "}\n",
       "\n",
       "/* Pipeline/ColumnTransformer-specific style */\n",
       "\n",
       "#sk-container-id-1 div.sk-label input.sk-toggleable__control:checked~label.sk-toggleable__label {\n",
       "  color: var(--sklearn-color-text);\n",
       "  background-color: var(--sklearn-color-unfitted-level-2);\n",
       "}\n",
       "\n",
       "#sk-container-id-1 div.sk-label.fitted input.sk-toggleable__control:checked~label.sk-toggleable__label {\n",
       "  background-color: var(--sklearn-color-fitted-level-2);\n",
       "}\n",
       "\n",
       "/* Estimator-specific style */\n",
       "\n",
       "/* Colorize estimator box */\n",
       "#sk-container-id-1 div.sk-estimator input.sk-toggleable__control:checked~label.sk-toggleable__label {\n",
       "  /* unfitted */\n",
       "  background-color: var(--sklearn-color-unfitted-level-2);\n",
       "}\n",
       "\n",
       "#sk-container-id-1 div.sk-estimator.fitted input.sk-toggleable__control:checked~label.sk-toggleable__label {\n",
       "  /* fitted */\n",
       "  background-color: var(--sklearn-color-fitted-level-2);\n",
       "}\n",
       "\n",
       "#sk-container-id-1 div.sk-label label.sk-toggleable__label,\n",
       "#sk-container-id-1 div.sk-label label {\n",
       "  /* The background is the default theme color */\n",
       "  color: var(--sklearn-color-text-on-default-background);\n",
       "}\n",
       "\n",
       "/* On hover, darken the color of the background */\n",
       "#sk-container-id-1 div.sk-label:hover label.sk-toggleable__label {\n",
       "  color: var(--sklearn-color-text);\n",
       "  background-color: var(--sklearn-color-unfitted-level-2);\n",
       "}\n",
       "\n",
       "/* Label box, darken color on hover, fitted */\n",
       "#sk-container-id-1 div.sk-label.fitted:hover label.sk-toggleable__label.fitted {\n",
       "  color: var(--sklearn-color-text);\n",
       "  background-color: var(--sklearn-color-fitted-level-2);\n",
       "}\n",
       "\n",
       "/* Estimator label */\n",
       "\n",
       "#sk-container-id-1 div.sk-label label {\n",
       "  font-family: monospace;\n",
       "  font-weight: bold;\n",
       "  display: inline-block;\n",
       "  line-height: 1.2em;\n",
       "}\n",
       "\n",
       "#sk-container-id-1 div.sk-label-container {\n",
       "  text-align: center;\n",
       "}\n",
       "\n",
       "/* Estimator-specific */\n",
       "#sk-container-id-1 div.sk-estimator {\n",
       "  font-family: monospace;\n",
       "  border: 1px dotted var(--sklearn-color-border-box);\n",
       "  border-radius: 0.25em;\n",
       "  box-sizing: border-box;\n",
       "  margin-bottom: 0.5em;\n",
       "  /* unfitted */\n",
       "  background-color: var(--sklearn-color-unfitted-level-0);\n",
       "}\n",
       "\n",
       "#sk-container-id-1 div.sk-estimator.fitted {\n",
       "  /* fitted */\n",
       "  background-color: var(--sklearn-color-fitted-level-0);\n",
       "}\n",
       "\n",
       "/* on hover */\n",
       "#sk-container-id-1 div.sk-estimator:hover {\n",
       "  /* unfitted */\n",
       "  background-color: var(--sklearn-color-unfitted-level-2);\n",
       "}\n",
       "\n",
       "#sk-container-id-1 div.sk-estimator.fitted:hover {\n",
       "  /* fitted */\n",
       "  background-color: var(--sklearn-color-fitted-level-2);\n",
       "}\n",
       "\n",
       "/* Specification for estimator info (e.g. \"i\" and \"?\") */\n",
       "\n",
       "/* Common style for \"i\" and \"?\" */\n",
       "\n",
       ".sk-estimator-doc-link,\n",
       "a:link.sk-estimator-doc-link,\n",
       "a:visited.sk-estimator-doc-link {\n",
       "  float: right;\n",
       "  font-size: smaller;\n",
       "  line-height: 1em;\n",
       "  font-family: monospace;\n",
       "  background-color: var(--sklearn-color-background);\n",
       "  border-radius: 1em;\n",
       "  height: 1em;\n",
       "  width: 1em;\n",
       "  text-decoration: none !important;\n",
       "  margin-left: 1ex;\n",
       "  /* unfitted */\n",
       "  border: var(--sklearn-color-unfitted-level-1) 1pt solid;\n",
       "  color: var(--sklearn-color-unfitted-level-1);\n",
       "}\n",
       "\n",
       ".sk-estimator-doc-link.fitted,\n",
       "a:link.sk-estimator-doc-link.fitted,\n",
       "a:visited.sk-estimator-doc-link.fitted {\n",
       "  /* fitted */\n",
       "  border: var(--sklearn-color-fitted-level-1) 1pt solid;\n",
       "  color: var(--sklearn-color-fitted-level-1);\n",
       "}\n",
       "\n",
       "/* On hover */\n",
       "div.sk-estimator:hover .sk-estimator-doc-link:hover,\n",
       ".sk-estimator-doc-link:hover,\n",
       "div.sk-label-container:hover .sk-estimator-doc-link:hover,\n",
       ".sk-estimator-doc-link:hover {\n",
       "  /* unfitted */\n",
       "  background-color: var(--sklearn-color-unfitted-level-3);\n",
       "  color: var(--sklearn-color-background);\n",
       "  text-decoration: none;\n",
       "}\n",
       "\n",
       "div.sk-estimator.fitted:hover .sk-estimator-doc-link.fitted:hover,\n",
       ".sk-estimator-doc-link.fitted:hover,\n",
       "div.sk-label-container:hover .sk-estimator-doc-link.fitted:hover,\n",
       ".sk-estimator-doc-link.fitted:hover {\n",
       "  /* fitted */\n",
       "  background-color: var(--sklearn-color-fitted-level-3);\n",
       "  color: var(--sklearn-color-background);\n",
       "  text-decoration: none;\n",
       "}\n",
       "\n",
       "/* Span, style for the box shown on hovering the info icon */\n",
       ".sk-estimator-doc-link span {\n",
       "  display: none;\n",
       "  z-index: 9999;\n",
       "  position: relative;\n",
       "  font-weight: normal;\n",
       "  right: .2ex;\n",
       "  padding: .5ex;\n",
       "  margin: .5ex;\n",
       "  width: min-content;\n",
       "  min-width: 20ex;\n",
       "  max-width: 50ex;\n",
       "  color: var(--sklearn-color-text);\n",
       "  box-shadow: 2pt 2pt 4pt #999;\n",
       "  /* unfitted */\n",
       "  background: var(--sklearn-color-unfitted-level-0);\n",
       "  border: .5pt solid var(--sklearn-color-unfitted-level-3);\n",
       "}\n",
       "\n",
       ".sk-estimator-doc-link.fitted span {\n",
       "  /* fitted */\n",
       "  background: var(--sklearn-color-fitted-level-0);\n",
       "  border: var(--sklearn-color-fitted-level-3);\n",
       "}\n",
       "\n",
       ".sk-estimator-doc-link:hover span {\n",
       "  display: block;\n",
       "}\n",
       "\n",
       "/* \"?\"-specific style due to the `<a>` HTML tag */\n",
       "\n",
       "#sk-container-id-1 a.estimator_doc_link {\n",
       "  float: right;\n",
       "  font-size: 1rem;\n",
       "  line-height: 1em;\n",
       "  font-family: monospace;\n",
       "  background-color: var(--sklearn-color-background);\n",
       "  border-radius: 1rem;\n",
       "  height: 1rem;\n",
       "  width: 1rem;\n",
       "  text-decoration: none;\n",
       "  /* unfitted */\n",
       "  color: var(--sklearn-color-unfitted-level-1);\n",
       "  border: var(--sklearn-color-unfitted-level-1) 1pt solid;\n",
       "}\n",
       "\n",
       "#sk-container-id-1 a.estimator_doc_link.fitted {\n",
       "  /* fitted */\n",
       "  border: var(--sklearn-color-fitted-level-1) 1pt solid;\n",
       "  color: var(--sklearn-color-fitted-level-1);\n",
       "}\n",
       "\n",
       "/* On hover */\n",
       "#sk-container-id-1 a.estimator_doc_link:hover {\n",
       "  /* unfitted */\n",
       "  background-color: var(--sklearn-color-unfitted-level-3);\n",
       "  color: var(--sklearn-color-background);\n",
       "  text-decoration: none;\n",
       "}\n",
       "\n",
       "#sk-container-id-1 a.estimator_doc_link.fitted:hover {\n",
       "  /* fitted */\n",
       "  background-color: var(--sklearn-color-fitted-level-3);\n",
       "}\n",
       "</style><div id=\"sk-container-id-1\" class=\"sk-top-container\"><div class=\"sk-text-repr-fallback\"><pre>LogisticRegression()</pre><b>In a Jupyter environment, please rerun this cell to show the HTML representation or trust the notebook. <br />On GitHub, the HTML representation is unable to render, please try loading this page with nbviewer.org.</b></div><div class=\"sk-container\" hidden><div class=\"sk-item\"><div class=\"sk-estimator fitted sk-toggleable\"><input class=\"sk-toggleable__control sk-hidden--visually\" id=\"sk-estimator-id-1\" type=\"checkbox\" checked><label for=\"sk-estimator-id-1\" class=\"sk-toggleable__label fitted sk-toggleable__label-arrow fitted\">&nbsp;&nbsp;LogisticRegression<a class=\"sk-estimator-doc-link fitted\" rel=\"noreferrer\" target=\"_blank\" href=\"https://scikit-learn.org/1.5/modules/generated/sklearn.linear_model.LogisticRegression.html\">?<span>Documentation for LogisticRegression</span></a><span class=\"sk-estimator-doc-link fitted\">i<span>Fitted</span></span></label><div class=\"sk-toggleable__content fitted\"><pre>LogisticRegression()</pre></div> </div></div></div></div>"
      ],
      "text/plain": [
       "LogisticRegression()"
      ]
     },
     "execution_count": 22,
     "metadata": {},
     "output_type": "execute_result"
    }
   ],
   "source": [
    "model= LogisticRegression()\n",
    "model.fit(X_train_enc, y_train_enc)\n"
   ]
  },
  {
   "cell_type": "code",
   "execution_count": 23,
   "id": "cb8faade",
   "metadata": {},
   "outputs": [
    {
     "data": {
      "text/plain": [
       "(0.9242156912962723, 0.9236714577775006)"
      ]
     },
     "execution_count": 23,
     "metadata": {},
     "output_type": "execute_result"
    }
   ],
   "source": [
    "model.score(X_train_enc, y_train_enc), model.score(X_test_enc, y_test_enc)"
   ]
  },
  {
   "cell_type": "code",
   "execution_count": 24,
   "id": "3d9bde27",
   "metadata": {},
   "outputs": [
    {
     "data": {
      "text/plain": [
       "is_fraud\n",
       "False    0.800175\n",
       "True     0.199825\n",
       "Name: count, dtype: float64"
      ]
     },
     "execution_count": 24,
     "metadata": {},
     "output_type": "execute_result"
    }
   ],
   "source": [
    "df.is_fraud.value_counts()/ len(df)"
   ]
  },
  {
   "cell_type": "code",
   "execution_count": 25,
   "id": "5764c951-0879-44a2-a834-04b9257d7bc3",
   "metadata": {},
   "outputs": [],
   "source": [
    "from sklearn.metrics import confusion_matrix, classification_report, roc_auc_score, roc_curve, RocCurveDisplay, ConfusionMatrixDisplay"
   ]
  },
  {
   "cell_type": "code",
   "execution_count": 26,
   "id": "d0abdd7e-999f-4661-a72d-2a00523a101c",
   "metadata": {},
   "outputs": [
    {
     "data": {
      "text/plain": [
       "<sklearn.metrics._plot.confusion_matrix.ConfusionMatrixDisplay at 0x1d1984061b0>"
      ]
     },
     "execution_count": 26,
     "metadata": {},
     "output_type": "execute_result"
    },
    {
     "data": {
      "image/png": "[encoded data removed]",
      "text/plain": [
       "<Figure size 640x480 with 2 Axes>"
      ]
     },
     "metadata": {},
     "output_type": "display_data"
    }
   ],
   "source": [
    "y_pred= model.predict(X_test_enc)\n",
    "ConfusionMatrixDisplay(confusion_matrix=confusion_matrix(y_test_enc, y_pred)).plot()"
   ]
  },
  {
   "cell_type": "code",
   "execution_count": 27,
   "id": "fd603ecf-8271-4d87-a08a-ecbd564dcf26",
   "metadata": {},
   "outputs": [
    {
     "data": {
      "text/plain": [
       "<sklearn.metrics._plot.roc_curve.RocCurveDisplay at 0x1d198470fe0>"
      ]
     },
     "execution_count": 27,
     "metadata": {},
     "output_type": "execute_result"
    },
    {
     "data": {
      "image/png": "[encoded data removed]",
      "text/plain": [
       "<Figure size 640x480 with 1 Axes>"
      ]
     },
     "metadata": {},
     "output_type": "display_data"
    }
   ],
   "source": [
    "RocCurveDisplay.from_predictions(y_test_enc, y_pred)"
   ]
  },
  {
   "cell_type": "code",
   "execution_count": 28,
   "id": "f240cb6d",
   "metadata": {},
   "outputs": [
    {
     "data": {
      "text/plain": [
       "is_fraud\n",
       "False    0.800175\n",
       "True     0.199825\n",
       "Name: count, dtype: float64"
      ]
     },
     "execution_count": 28,
     "metadata": {},
     "output_type": "execute_result"
    }
   ],
   "source": [
    "df.is_fraud.value_counts()/len(df)"
   ]
  },
  {
   "cell_type": "code",
   "execution_count": 29,
   "id": "7bebad0b-a6f0-4961-8d21-0425f64098cd",
   "metadata": {},
   "outputs": [
    {
     "name": "stdout",
     "output_type": "stream",
     "text": [
      "              precision    recall  f1-score   support\n",
      "\n",
      "           0       0.94      0.96      0.95    718784\n",
      "           1       0.84      0.76      0.80    179268\n",
      "\n",
      "    accuracy                           0.92    898052\n",
      "   macro avg       0.89      0.86      0.88    898052\n",
      "weighted avg       0.92      0.92      0.92    898052\n",
      "\n"
     ]
    }
   ],
   "source": [
    "print(classification_report(y_test_enc, y_pred))"
   ]
  },
  {
   "cell_type": "code",
   "execution_count": 30,
   "id": "eb7c898a",
   "metadata": {},
   "outputs": [
    {
     "data": {
      "text/plain": [
       "<sklearn.metrics._plot.confusion_matrix.ConfusionMatrixDisplay at 0x1d4ecfeeab0>"
      ]
     },
     "execution_count": 30,
     "metadata": {},
     "output_type": "execute_result"
    },
    {
     "data": {
      "image/png": "[encoded data removed]",
      "text/plain": [
       "<Figure size 640x480 with 2 Axes>"
      ]
     },
     "metadata": {},
     "output_type": "display_data"
    }
   ],
   "source": [
    "ConfusionMatrixDisplay(confusion_matrix=confusion_matrix(y_train_enc, model.predict(X_train_enc))).plot()"
   ]
  },
  {
   "cell_type": "code",
   "execution_count": null,
   "id": "06d75b26",
   "metadata": {},
   "outputs": [],
   "source": []
  },
  {
   "cell_type": "markdown",
   "id": "22481803",
   "metadata": {
    "jp-MarkdownHeadingCollapsed": true
   },
   "source": [
    "#### save the model"
   ]
  },
  {
   "cell_type": "markdown",
   "id": "646c77c3",
   "metadata": {},
   "source": [
    "as well as encoders"
   ]
  },
  {
   "cell_type": "code",
   "execution_count": 31,
   "id": "adb29591",
   "metadata": {},
   "outputs": [
    {
     "data": {
      "text/plain": [
       "['./models/feature_names.pkl']"
      ]
     },
     "execution_count": 31,
     "metadata": {},
     "output_type": "execute_result"
    }
   ],
   "source": [
    "import joblib\n",
    "import os\n",
    "\n",
    "# Ensure the directory exists\n",
    "os.makedirs(\"./models/encoders\", exist_ok=True)\n",
    "# dump model\n",
    "joblib.dump(model, './models/model.pkl')\n",
    "\n",
    "joblib.dump(ct, './models/encoders/col_transformer.pkl')\n",
    "joblib.dump(sc, './models/encoders/scaler.pkl')\n",
    "\n",
    "# save freq_map for frequency encoder\n",
    "joblib.dump(all_freq_map, './models/encoders/all_freq_map.pkl')\n",
    "\n",
    "# save features names (during training)\n",
    "joblib.dump(feature_names, './models/feature_names.pkl')"
   ]
  },
  {
   "cell_type": "code",
   "execution_count": 32,
   "id": "0abe7efa-0743-49c5-9c9c-f50b62ec5e5e",
   "metadata": {},
   "outputs": [
    {
     "name": "stdout",
     "output_type": "stream",
     "text": [
      "              precision    recall  f1-score   support\n",
      "\n",
      "           0       0.94      0.96      0.95   2874210\n",
      "           1       0.84      0.76      0.80    717998\n",
      "\n",
      "    accuracy                           0.92   3592208\n",
      "   macro avg       0.89      0.86      0.88   3592208\n",
      "weighted avg       0.92      0.92      0.92   3592208\n",
      "\n"
     ]
    }
   ],
   "source": [
    "print(classification_report(y_train_enc, model.predict(X_train_enc)))"
   ]
  },
  {
   "cell_type": "markdown",
   "id": "7f95ef3e",
   "metadata": {
    "jp-MarkdownHeadingCollapsed": true
   },
   "source": [
    "#### Feature Importance"
   ]
  },
  {
   "cell_type": "code",
   "execution_count": 33,
   "id": "6dcfdf76",
   "metadata": {},
   "outputs": [
    {
     "data": {
      "text/plain": [
       "array([[ 2.16440480e-03,  1.17653035e-02,  1.36445511e-03,\n",
       "         9.89680923e-03, -2.94790509e-04,  7.77819780e-03,\n",
       "        -1.02713887e-02, -2.23965163e-02,  7.93073937e-04,\n",
       "         6.56159691e-03,  7.20647837e-03, -2.05331742e-02,\n",
       "         6.11744451e-03, -1.43410224e-01,  5.09751589e-01,\n",
       "        -1.04180471e-01, -1.35550610e-01, -8.89956063e-02,\n",
       "         5.10547906e-01,  5.09832665e-01, -8.82842878e-02,\n",
       "        -1.54233906e-01, -2.32278177e-01,  9.11085876e-01,\n",
       "        -3.07721578e-01, -3.37388767e-03, -3.46094547e-03,\n",
       "        -9.75242876e-03,  2.28790481e-01, -2.38290672e-02,\n",
       "         9.61893888e-01, -4.18336293e-02,  9.11085876e-01,\n",
       "         1.85567206e+00, -8.11038650e-03, -6.87293939e-01,\n",
       "         6.61882211e-03]])"
      ]
     },
     "execution_count": 33,
     "metadata": {},
     "output_type": "execute_result"
    }
   ],
   "source": [
    "model.coef_"
   ]
  },
  {
   "cell_type": "code",
   "execution_count": 34,
   "id": "e55e5743",
   "metadata": {},
   "outputs": [
    {
     "name": "stdout",
     "output_type": "stream",
     "text": [
      "                            Feature  Coefficient\n",
      "33               distance_from_home     1.855672\n",
      "30                          country     0.961894\n",
      "32                     card_present     0.911086\n",
      "23                      channel_pos     0.911086\n",
      "18           device_Magnetic Stripe     0.510548\n",
      "19               device_NFC Payment     0.509833\n",
      "14               device_Chip Reader     0.509752\n",
      "28                           amount     0.228790\n",
      "1   merchant_category_Entertainment     0.011765\n",
      "3         merchant_category_Grocery     0.009897\n",
      "5      merchant_category_Restaurant     0.007778\n",
      "10            card_type_Gold Credit     0.007206\n",
      "36              weekend_transaction     0.006619\n",
      "9             card_type_Basic Debit     0.006562\n",
      "12          card_type_Premium Debit     0.006117\n",
      "0       merchant_category_Education     0.002164\n",
      "2             merchant_category_Gas     0.001364\n",
      "8            card_type_Basic Credit     0.000793\n",
      "4      merchant_category_Healthcare    -0.000295\n",
      "25                        city_size    -0.003374\n",
      "26                    merchant_type    -0.003461\n",
      "34               high_risk_merchant    -0.008110\n",
      "27                         merchant    -0.009752\n",
      "6          merchant_category_Retail    -0.010271\n",
      "11        card_type_Platinum Credit    -0.020533\n",
      "7          merchant_category_Travel    -0.022397\n",
      "29                         currency    -0.023829\n",
      "31                             city    -0.041834\n",
      "20                    device_Safari    -0.088284\n",
      "17                   device_Firefox    -0.088996\n",
      "15                    device_Chrome    -0.104180\n",
      "16                      device_Edge    -0.135551\n",
      "13               device_Android App    -0.143410\n",
      "21                   device_iOS App    -0.154234\n",
      "22                   channel_mobile    -0.232278\n",
      "24                      channel_web    -0.307722\n",
      "35                 transaction_hour    -0.687294\n"
     ]
    }
   ],
   "source": [
    "# Display feature names with their coefficients\n",
    "coef_df = pd.DataFrame({'Feature': feature_names, 'Coefficient': model.coef_[0]})\n",
    "coef_df = coef_df.sort_values('Coefficient', ascending=False)\n",
    "print(coef_df)"
   ]
  },
  {
   "cell_type": "code",
   "execution_count": 35,
   "id": "27347f9a",
   "metadata": {},
   "outputs": [
    {
     "data": {
      "text/plain": [
       "<Axes: >"
      ]
     },
     "execution_count": 35,
     "metadata": {},
     "output_type": "execute_result"
    },
    {
     "data": {
      "image/png": "[encoded data removed]",
      "text/plain": [
       "<Figure size 640x480 with 1 Axes>"
      ]
     },
     "metadata": {},
     "output_type": "display_data"
    }
   ],
   "source": [
    "pd.DataFrame({'coefficient': model.coef_[0]}, index=feature_names).plot.bar()"
   ]
  },
  {
   "cell_type": "markdown",
   "id": "0245e18a",
   "metadata": {
    "jp-MarkdownHeadingCollapsed": true
   },
   "source": [
    "#### make predictions"
   ]
  },
  {
   "cell_type": "code",
   "execution_count": 36,
   "id": "58b86044",
   "metadata": {},
   "outputs": [
    {
     "data": {
      "text/plain": [
       "array([ True, False])"
      ]
     },
     "execution_count": 36,
     "metadata": {},
     "output_type": "execute_result"
    }
   ],
   "source": [
    "def make_prediction(pred_set_x):\n",
    "    pred_set_x= ct.transform(pred_set_x)\n",
    "    pred_set_x= sc.transform(pred_set_x)\n",
    "    result= model.predict(pd.DataFrame(pred_set_x, columns=X_train_enc.columns))\n",
    "    return le.inverse_transform(result)\n",
    "    # for pred in result:    \n",
    "    #     if pred:\n",
    "    #         print(\"Danger\")\n",
    "    #     else:\n",
    "    #         print('ok ')\n",
    "\n",
    "make_prediction(X_test[10:12])"
   ]
  },
  {
   "cell_type": "code",
   "execution_count": 45,
   "id": "23658bb6",
   "metadata": {},
   "outputs": [
    {
     "data": {
      "text/plain": [
       "array([False, False,  True, False,  True, False, False, False, False,\n",
       "       False, False,  True, False, False,  True])"
      ]
     },
     "execution_count": 45,
     "metadata": {},
     "output_type": "execute_result"
    }
   ],
   "source": [
    "make_prediction(X_test.sample(15))"
   ]
  },
  {
   "cell_type": "markdown",
   "id": "e07a4206",
   "metadata": {},
   "source": [
    "pred_df= pd.DataFrame([['Healthcare',\t3124,\t812,\t724949.27,\t7143,\t7143,\t47401,\t'medium',\t'Basic Debit',\tFalse,\t'Chrome',\t'web',\t1,\t1,\tFalse,\t0,\tFalse]],\n",
    "                       columns=X_train.columns)\n",
    "pred_df\n",
    "\n",
    "make_prediction(pred_df)"
   ]
  },
  {
   "cell_type": "code",
   "execution_count": 46,
   "id": "73586cae",
   "metadata": {},
   "outputs": [
    {
     "data": {
      "text/plain": [
       "array([ True, False, False, False, False, False])"
      ]
     },
     "execution_count": 46,
     "metadata": {},
     "output_type": "execute_result"
    }
   ],
   "source": [
    "make_prediction(X_test[10:16])"
   ]
  },
  {
   "cell_type": "code",
   "execution_count": 47,
   "id": "8452ffeb",
   "metadata": {},
   "outputs": [
    {
     "data": {
      "text/plain": [
       "(0.9242156912962723, 0.9236714577775006)"
      ]
     },
     "execution_count": 47,
     "metadata": {},
     "output_type": "execute_result"
    }
   ],
   "source": [
    "model.score(X_train_enc, y_train_enc), model.score(X_test_enc, y_test_enc)"
   ]
  },
  {
   "cell_type": "code",
   "execution_count": 48,
   "id": "6cff1301",
   "metadata": {},
   "outputs": [
    {
     "data": {
      "text/plain": [
       "(array([0, 0, 0, ..., 0, 1, 1], dtype=int64),\n",
       " array([0, 0, 0, ..., 0, 1, 0], dtype=int64))"
      ]
     },
     "execution_count": 48,
     "metadata": {},
     "output_type": "execute_result"
    }
   ],
   "source": [
    "y_test_enc, model.predict(X_test_enc)"
   ]
  },
  {
   "cell_type": "code",
   "execution_count": 49,
   "id": "c7426c67",
   "metadata": {},
   "outputs": [
    {
     "name": "stdout",
     "output_type": "stream",
     "text": [
      "[[0 0]\n",
      " [0 0]\n",
      " [0 0]\n",
      " ...\n",
      " [0 0]\n",
      " [1 1]\n",
      " [1 0]]\n"
     ]
    }
   ],
   "source": [
    "import numpy as np\n",
    "print(np.concatenate((y_test_enc.reshape(-1,1), model.predict(X_test_enc).reshape(-1,1)) , axis= 1))"
   ]
  },
  {
   "cell_type": "markdown",
   "id": "dcdccbcc",
   "metadata": {},
   "source": [
    "Make more predictions"
   ]
  },
  {
   "cell_type": "code",
   "execution_count": 53,
   "id": "fb034ec1",
   "metadata": {},
   "outputs": [
    {
     "ename": "SyntaxError",
     "evalue": "invalid syntax (3547097802.py, line 1)",
     "output_type": "error",
     "traceback": [
      "\u001b[1;36m  Cell \u001b[1;32mIn[53], line 1\u001b[1;36m\u001b[0m\n\u001b[1;33m    stop here\u001b[0m\n\u001b[1;37m         ^\u001b[0m\n\u001b[1;31mSyntaxError\u001b[0m\u001b[1;31m:\u001b[0m invalid syntax\n"
     ]
    }
   ],
   "source": [
    "stop here\n",
    "made intentionally"
   ]
  },
  {
   "cell_type": "markdown",
   "id": "eb6b501d",
   "metadata": {
    "jp-MarkdownHeadingCollapsed": true
   },
   "source": [
    "#### The END"
   ]
  },
  {
   "cell_type": "code",
   "execution_count": null,
   "id": "042ad6e6",
   "metadata": {},
   "outputs": [
    {
     "data": {
      "text/plain": [
       "array([False, False])"
      ]
     },
     "execution_count": 43,
     "metadata": {},
     "output_type": "execute_result"
    }
   ],
   "source": [
    "def make_prediction(pred_set_x):\n",
    "    pred_set_x= ct.transform(pred_set_x)\n",
    "    pred_set_x= sc.transform(pred_set_x)\n",
    "    result= model.predict(pd.DataFrame(pred_set_x, columns=X_train_enc.columns))\n",
    "    return le.inverse_transform(result)\n",
    "    # for pred in result:    \n",
    "    #     if pred:\n",
    "    #         print(\"Danger\")\n",
    "    #     else:\n",
    "    #         print('ok ')\n",
    "\n",
    "make_prediction(X_test[10:12])"
   ]
  },
  {
   "cell_type": "code",
   "execution_count": null,
   "id": "ca0b55d7",
   "metadata": {},
   "outputs": [
    {
     "data": {
      "text/html": [
       "<div>\n",
       "<style scoped>\n",
       "    .dataframe tbody tr th:only-of-type {\n",
       "        vertical-align: middle;\n",
       "    }\n",
       "\n",
       "    .dataframe tbody tr th {\n",
       "        vertical-align: top;\n",
       "    }\n",
       "\n",
       "    .dataframe thead th {\n",
       "        text-align: right;\n",
       "    }\n",
       "</style>\n",
       "<table border=\"1\" class=\"dataframe\">\n",
       "  <thead>\n",
       "    <tr style=\"text-align: right;\">\n",
       "      <th></th>\n",
       "      <th>merchant_category</th>\n",
       "      <th>merchant_type</th>\n",
       "      <th>merchant</th>\n",
       "      <th>amount</th>\n",
       "      <th>currency</th>\n",
       "      <th>country</th>\n",
       "      <th>city</th>\n",
       "      <th>city_size</th>\n",
       "      <th>card_type</th>\n",
       "      <th>card_present</th>\n",
       "      <th>device</th>\n",
       "      <th>channel</th>\n",
       "      <th>device_fingerprint</th>\n",
       "      <th>distance_from_home</th>\n",
       "      <th>high_risk_merchant</th>\n",
       "      <th>transaction_hour</th>\n",
       "      <th>weekend_transaction</th>\n",
       "    </tr>\n",
       "  </thead>\n",
       "  <tbody>\n",
       "    <tr>\n",
       "      <th>1208892</th>\n",
       "      <td>Gas</td>\n",
       "      <td>46634</td>\n",
       "      <td>15509</td>\n",
       "      <td>178494.74</td>\n",
       "      <td>79139</td>\n",
       "      <td>79139</td>\n",
       "      <td>698287</td>\n",
       "      <td>medium</td>\n",
       "      <td>Basic Debit</td>\n",
       "      <td>False</td>\n",
       "      <td>Safari</td>\n",
       "      <td>web</td>\n",
       "      <td>2</td>\n",
       "      <td>1</td>\n",
       "      <td>False</td>\n",
       "      <td>0</td>\n",
       "      <td>True</td>\n",
       "    </tr>\n",
       "    <tr>\n",
       "      <th>5249160</th>\n",
       "      <td>Restaurant</td>\n",
       "      <td>31518</td>\n",
       "      <td>5330</td>\n",
       "      <td>4254.53</td>\n",
       "      <td>79139</td>\n",
       "      <td>79139</td>\n",
       "      <td>698287</td>\n",
       "      <td>medium</td>\n",
       "      <td>Basic Debit</td>\n",
       "      <td>False</td>\n",
       "      <td>Firefox</td>\n",
       "      <td>web</td>\n",
       "      <td>54</td>\n",
       "      <td>0</td>\n",
       "      <td>False</td>\n",
       "      <td>18</td>\n",
       "      <td>False</td>\n",
       "    </tr>\n",
       "  </tbody>\n",
       "</table>\n",
       "</div>"
      ],
      "text/plain": [
       "        merchant_category  merchant_type  merchant     amount  currency  \\\n",
       "1208892               Gas          46634     15509  178494.74     79139   \n",
       "5249160        Restaurant          31518      5330    4254.53     79139   \n",
       "\n",
       "         country    city city_size    card_type  card_present   device  \\\n",
       "1208892    79139  698287    medium  Basic Debit         False   Safari   \n",
       "5249160    79139  698287    medium  Basic Debit         False  Firefox   \n",
       "\n",
       "        channel  device_fingerprint  distance_from_home  high_risk_merchant  \\\n",
       "1208892     web                   2                   1               False   \n",
       "5249160     web                  54                   0               False   \n",
       "\n",
       "         transaction_hour  weekend_transaction  \n",
       "1208892                 0                 True  \n",
       "5249160                18                False  "
      ]
     },
     "execution_count": 44,
     "metadata": {},
     "output_type": "execute_result"
    }
   ],
   "source": [
    "X_test.head(2)"
   ]
  },
  {
   "cell_type": "code",
   "execution_count": null,
   "id": "843f0a74",
   "metadata": {},
   "outputs": [
    {
     "name": "stderr",
     "output_type": "stream",
     "text": [
      "c:\\Users\\me\\ML\\ML2\\ML3\\project\\heart-disease\\v_env\\Lib\\site-packages\\sklearn\\base.py:493: UserWarning: X does not have valid feature names, but LogisticRegression was fitted with feature names\n",
      "  warnings.warn(\n"
     ]
    },
    {
     "data": {
      "text/plain": [
       "array([0, 0, 0], dtype=int64)"
      ]
     },
     "execution_count": 45,
     "metadata": {},
     "output_type": "execute_result"
    }
   ],
   "source": [
    "model.predict(sc.transform(ct.transform(X_test[10:13])))"
   ]
  },
  {
   "cell_type": "code",
   "execution_count": null,
   "id": "901c4bd7",
   "metadata": {},
   "outputs": [],
   "source": []
  },
  {
   "cell_type": "code",
   "execution_count": null,
   "id": "0feb989d",
   "metadata": {},
   "outputs": [
    {
     "name": "stdout",
     "output_type": "stream",
     "text": [
      "merchant_type  ->  28\n",
      "merchant  ->  1\n",
      "currency  ->  59\n",
      "country  ->  59\n",
      "city  ->  5\n",
      "device_fingerprint  ->  1\n"
     ]
    }
   ],
   "source": [
    "# frequency encoding\n",
    "for col in freq_enc:\n",
    "    freq= all_df[col][:1000].value_counts().to_dict()    \n",
    "    print(col, \" -> \", min(freq.values()))"
   ]
  },
  {
   "cell_type": "code",
   "execution_count": null,
   "id": "2cf8fe2b",
   "metadata": {},
   "outputs": [],
   "source": []
  },
  {
   "cell_type": "code",
   "execution_count": null,
   "id": "b672560c",
   "metadata": {},
   "outputs": [],
   "source": [
    "del_df= all_df[10000:20000].copy()"
   ]
  },
  {
   "cell_type": "code",
   "execution_count": null,
   "id": "8f0f6e5e",
   "metadata": {},
   "outputs": [
    {
     "data": {
      "text/html": [
       "<div>\n",
       "<style scoped>\n",
       "    .dataframe tbody tr th:only-of-type {\n",
       "        vertical-align: middle;\n",
       "    }\n",
       "\n",
       "    .dataframe tbody tr th {\n",
       "        vertical-align: top;\n",
       "    }\n",
       "\n",
       "    .dataframe thead th {\n",
       "        text-align: right;\n",
       "    }\n",
       "</style>\n",
       "<table border=\"1\" class=\"dataframe\">\n",
       "  <thead>\n",
       "    <tr style=\"text-align: right;\">\n",
       "      <th></th>\n",
       "      <th>merchant_category</th>\n",
       "      <th>merchant_type</th>\n",
       "      <th>merchant</th>\n",
       "      <th>amount</th>\n",
       "      <th>currency</th>\n",
       "      <th>country</th>\n",
       "      <th>city</th>\n",
       "      <th>city_size</th>\n",
       "      <th>card_type</th>\n",
       "      <th>card_present</th>\n",
       "      <th>device</th>\n",
       "      <th>channel</th>\n",
       "      <th>device_fingerprint</th>\n",
       "      <th>distance_from_home</th>\n",
       "      <th>high_risk_merchant</th>\n",
       "      <th>transaction_hour</th>\n",
       "      <th>weekend_transaction</th>\n",
       "    </tr>\n",
       "  </thead>\n",
       "  <tbody>\n",
       "    <tr>\n",
       "      <th>10000</th>\n",
       "      <td>Travel</td>\n",
       "      <td>airlines</td>\n",
       "      <td>Southwest</td>\n",
       "      <td>2.25</td>\n",
       "      <td>EUR</td>\n",
       "      <td>Germany</td>\n",
       "      <td>Unknown City</td>\n",
       "      <td>medium</td>\n",
       "      <td>Basic Credit</td>\n",
       "      <td>True</td>\n",
       "      <td>NFC Payment</td>\n",
       "      <td>pos</td>\n",
       "      <td>341e95c3735a23e61479874f5fc82b59</td>\n",
       "      <td>1</td>\n",
       "      <td>True</td>\n",
       "      <td>1</td>\n",
       "      <td>False</td>\n",
       "    </tr>\n",
       "    <tr>\n",
       "      <th>10001</th>\n",
       "      <td>Entertainment</td>\n",
       "      <td>gaming</td>\n",
       "      <td>Nintendo eShop</td>\n",
       "      <td>13724.19</td>\n",
       "      <td>RUB</td>\n",
       "      <td>Russia</td>\n",
       "      <td>Unknown City</td>\n",
       "      <td>medium</td>\n",
       "      <td>Basic Debit</td>\n",
       "      <td>False</td>\n",
       "      <td>Edge</td>\n",
       "      <td>web</td>\n",
       "      <td>cc915c6be9363c42dd94f489284ad3ed</td>\n",
       "      <td>0</td>\n",
       "      <td>True</td>\n",
       "      <td>1</td>\n",
       "      <td>False</td>\n",
       "    </tr>\n",
       "    <tr>\n",
       "      <th>10002</th>\n",
       "      <td>Healthcare</td>\n",
       "      <td>medical</td>\n",
       "      <td>Local Hospital</td>\n",
       "      <td>1661.73</td>\n",
       "      <td>EUR</td>\n",
       "      <td>Germany</td>\n",
       "      <td>Unknown City</td>\n",
       "      <td>medium</td>\n",
       "      <td>Basic Credit</td>\n",
       "      <td>True</td>\n",
       "      <td>NFC Payment</td>\n",
       "      <td>pos</td>\n",
       "      <td>3e335a0721c698bc20f4c372fc529831</td>\n",
       "      <td>1</td>\n",
       "      <td>False</td>\n",
       "      <td>1</td>\n",
       "      <td>False</td>\n",
       "    </tr>\n",
       "    <tr>\n",
       "      <th>10003</th>\n",
       "      <td>Grocery</td>\n",
       "      <td>physical</td>\n",
       "      <td>Kroger</td>\n",
       "      <td>230.09</td>\n",
       "      <td>EUR</td>\n",
       "      <td>France</td>\n",
       "      <td>Unknown City</td>\n",
       "      <td>medium</td>\n",
       "      <td>Basic Credit</td>\n",
       "      <td>False</td>\n",
       "      <td>Firefox</td>\n",
       "      <td>web</td>\n",
       "      <td>dc4c38126cd00a318a0ab65690b73168</td>\n",
       "      <td>0</td>\n",
       "      <td>False</td>\n",
       "      <td>1</td>\n",
       "      <td>False</td>\n",
       "    </tr>\n",
       "    <tr>\n",
       "      <th>10004</th>\n",
       "      <td>Restaurant</td>\n",
       "      <td>premium</td>\n",
       "      <td>Morton's</td>\n",
       "      <td>5248.88</td>\n",
       "      <td>BRL</td>\n",
       "      <td>Brazil</td>\n",
       "      <td>Unknown City</td>\n",
       "      <td>medium</td>\n",
       "      <td>Platinum Credit</td>\n",
       "      <td>False</td>\n",
       "      <td>Android App</td>\n",
       "      <td>mobile</td>\n",
       "      <td>823f71318241adc361bfdd63d405a1cc</td>\n",
       "      <td>0</td>\n",
       "      <td>False</td>\n",
       "      <td>1</td>\n",
       "      <td>False</td>\n",
       "    </tr>\n",
       "  </tbody>\n",
       "</table>\n",
       "</div>"
      ],
      "text/plain": [
       "      merchant_category merchant_type        merchant    amount currency  \\\n",
       "10000            Travel      airlines       Southwest      2.25      EUR   \n",
       "10001     Entertainment        gaming  Nintendo eShop  13724.19      RUB   \n",
       "10002        Healthcare       medical  Local Hospital   1661.73      EUR   \n",
       "10003           Grocery      physical          Kroger    230.09      EUR   \n",
       "10004        Restaurant       premium        Morton's   5248.88      BRL   \n",
       "\n",
       "       country          city city_size        card_type  card_present  \\\n",
       "10000  Germany  Unknown City    medium     Basic Credit          True   \n",
       "10001   Russia  Unknown City    medium      Basic Debit         False   \n",
       "10002  Germany  Unknown City    medium     Basic Credit          True   \n",
       "10003   France  Unknown City    medium     Basic Credit         False   \n",
       "10004   Brazil  Unknown City    medium  Platinum Credit         False   \n",
       "\n",
       "            device channel                device_fingerprint  \\\n",
       "10000  NFC Payment     pos  341e95c3735a23e61479874f5fc82b59   \n",
       "10001         Edge     web  cc915c6be9363c42dd94f489284ad3ed   \n",
       "10002  NFC Payment     pos  3e335a0721c698bc20f4c372fc529831   \n",
       "10003      Firefox     web  dc4c38126cd00a318a0ab65690b73168   \n",
       "10004  Android App  mobile  823f71318241adc361bfdd63d405a1cc   \n",
       "\n",
       "       distance_from_home  high_risk_merchant  transaction_hour  \\\n",
       "10000                   1                True                 1   \n",
       "10001                   0                True                 1   \n",
       "10002                   1               False                 1   \n",
       "10003                   0               False                 1   \n",
       "10004                   0               False                 1   \n",
       "\n",
       "       weekend_transaction  \n",
       "10000                False  \n",
       "10001                False  \n",
       "10002                False  \n",
       "10003                False  \n",
       "10004                False  "
      ]
     },
     "execution_count": 56,
     "metadata": {},
     "output_type": "execute_result"
    }
   ],
   "source": [
    "X_del = del_df.drop('is_fraud', axis=1)\n",
    "X_del.drop(col_to_drop, axis=1, inplace=True)\n",
    "X_del.head()"
   ]
  },
  {
   "cell_type": "code",
   "execution_count": null,
   "id": "45ffe570",
   "metadata": {},
   "outputs": [
    {
     "data": {
      "text/plain": [
       "['dis_from_home', 'transacton_hr', 'amount']"
      ]
     },
     "execution_count": 74,
     "metadata": {},
     "output_type": "execute_result"
    }
   ],
   "source": [
    "num_cols"
   ]
  },
  {
   "cell_type": "code",
   "execution_count": null,
   "id": "d08f5938",
   "metadata": {},
   "outputs": [
    {
     "data": {
      "text/html": [
       "<div>\n",
       "<style scoped>\n",
       "    .dataframe tbody tr th:only-of-type {\n",
       "        vertical-align: middle;\n",
       "    }\n",
       "\n",
       "    .dataframe tbody tr th {\n",
       "        vertical-align: top;\n",
       "    }\n",
       "\n",
       "    .dataframe thead th {\n",
       "        text-align: right;\n",
       "    }\n",
       "</style>\n",
       "<table border=\"1\" class=\"dataframe\">\n",
       "  <thead>\n",
       "    <tr style=\"text-align: right;\">\n",
       "      <th></th>\n",
       "      <th>merchant_category</th>\n",
       "      <th>merchant_type</th>\n",
       "      <th>merchant</th>\n",
       "      <th>amount</th>\n",
       "      <th>currency</th>\n",
       "      <th>country</th>\n",
       "      <th>city</th>\n",
       "      <th>city_size</th>\n",
       "      <th>card_type</th>\n",
       "      <th>card_present</th>\n",
       "      <th>device</th>\n",
       "      <th>channel</th>\n",
       "      <th>device_fingerprint</th>\n",
       "      <th>distance_from_home</th>\n",
       "      <th>high_risk_merchant</th>\n",
       "      <th>transaction_hour</th>\n",
       "      <th>weekend_transaction</th>\n",
       "    </tr>\n",
       "  </thead>\n",
       "  <tbody>\n",
       "    <tr>\n",
       "      <th>10000</th>\n",
       "      <td>Travel</td>\n",
       "      <td>airlines</td>\n",
       "      <td>Southwest</td>\n",
       "      <td>2.25</td>\n",
       "      <td>EUR</td>\n",
       "      <td>Germany</td>\n",
       "      <td>Unknown City</td>\n",
       "      <td>medium</td>\n",
       "      <td>Basic Credit</td>\n",
       "      <td>True</td>\n",
       "      <td>NFC Payment</td>\n",
       "      <td>pos</td>\n",
       "      <td>341e95c3735a23e61479874f5fc82b59</td>\n",
       "      <td>1</td>\n",
       "      <td>True</td>\n",
       "      <td>1</td>\n",
       "      <td>False</td>\n",
       "    </tr>\n",
       "    <tr>\n",
       "      <th>10001</th>\n",
       "      <td>Entertainment</td>\n",
       "      <td>gaming</td>\n",
       "      <td>Nintendo eShop</td>\n",
       "      <td>13724.19</td>\n",
       "      <td>RUB</td>\n",
       "      <td>Russia</td>\n",
       "      <td>Unknown City</td>\n",
       "      <td>medium</td>\n",
       "      <td>Basic Debit</td>\n",
       "      <td>False</td>\n",
       "      <td>Edge</td>\n",
       "      <td>web</td>\n",
       "      <td>cc915c6be9363c42dd94f489284ad3ed</td>\n",
       "      <td>0</td>\n",
       "      <td>True</td>\n",
       "      <td>1</td>\n",
       "      <td>False</td>\n",
       "    </tr>\n",
       "  </tbody>\n",
       "</table>\n",
       "</div>"
      ],
      "text/plain": [
       "      merchant_category merchant_type        merchant    amount currency  \\\n",
       "10000            Travel      airlines       Southwest      2.25      EUR   \n",
       "10001     Entertainment        gaming  Nintendo eShop  13724.19      RUB   \n",
       "\n",
       "       country          city city_size     card_type  card_present  \\\n",
       "10000  Germany  Unknown City    medium  Basic Credit          True   \n",
       "10001   Russia  Unknown City    medium   Basic Debit         False   \n",
       "\n",
       "            device channel                device_fingerprint  \\\n",
       "10000  NFC Payment     pos  341e95c3735a23e61479874f5fc82b59   \n",
       "10001         Edge     web  cc915c6be9363c42dd94f489284ad3ed   \n",
       "\n",
       "       distance_from_home  high_risk_merchant  transaction_hour  \\\n",
       "10000                   1                True                 1   \n",
       "10001                   0                True                 1   \n",
       "\n",
       "       weekend_transaction  \n",
       "10000                False  \n",
       "10001                False  "
      ]
     },
     "execution_count": 79,
     "metadata": {},
     "output_type": "execute_result"
    }
   ],
   "source": [
    "X_del.head(2)"
   ]
  },
  {
   "cell_type": "code",
   "execution_count": null,
   "id": "c11b2847",
   "metadata": {},
   "outputs": [],
   "source": [
    "X_del.drop(ord_enc + num_cols, inplace=True, axis=1)"
   ]
  },
  {
   "cell_type": "code",
   "execution_count": null,
   "id": "f1e267f8",
   "metadata": {},
   "outputs": [],
   "source": [
    "del_X_train, del_X_test= train_test_split(X_del, test_size=0.4)"
   ]
  },
  {
   "cell_type": "code",
   "execution_count": null,
   "id": "7d267dec",
   "metadata": {},
   "outputs": [],
   "source": [
    "# frequency encoding\n",
    "all_freq_map= {}\n",
    "for col in freq_enc:\n",
    "    freq_map= del_X_train[col][:1000].value_counts().to_dict()\n",
    "    all_freq_map[col]= freq_map\n",
    "    # min_freq= min(freq.values())\n",
    "    # print(min_freq)\n",
    "    # del_X_train['new'+ col]= del_X_train[col].map(freq)\n",
    "    # del_X_test['new'+ col]= del_X_test[col].map(freq)\n",
    "    # print(col, \" -> \", min(freq.values()))"
   ]
  },
  {
   "cell_type": "code",
   "execution_count": null,
   "id": "f93b4dde",
   "metadata": {},
   "outputs": [],
   "source": [
    "for col, freq in all_freq_map.items():\n",
    "    del_X_train['new'+ col]= del_X_train[col].map(freq)\n",
    "    del_X_test['new'+ col]= del_X_test[col].map(freq).fillna(min(freq.values()))"
   ]
  },
  {
   "cell_type": "code",
   "execution_count": null,
   "id": "a2728613",
   "metadata": {},
   "outputs": [],
   "source": []
  },
  {
   "cell_type": "code",
   "execution_count": null,
   "id": "ba8db16a",
   "metadata": {},
   "outputs": [
    {
     "data": {
      "text/plain": [
       "array([ True])"
      ]
     },
     "execution_count": 185,
     "metadata": {},
     "output_type": "execute_result"
    }
   ],
   "source": [
    "pred_df= pd.DataFrame([['Healthcare',\t3124,\t812,\t724949.27,\t7143,\t7143,\t47401,\t'medium',\t'Basic Debit',\tFalse,\t'Chrome',\t'web',\t1,\t1,\tFalse,\t0,\tFalse]],\n",
    "                       columns=X_train.columns)\n",
    "pred_df\n",
    "\n",
    "make_prediction(pred_df)"
   ]
  },
  {
   "cell_type": "code",
   "execution_count": null,
   "id": "f5dadea1",
   "metadata": {},
   "outputs": [
    {
     "data": {
      "text/html": [
       "<div>\n",
       "<style scoped>\n",
       "    .dataframe tbody tr th:only-of-type {\n",
       "        vertical-align: middle;\n",
       "    }\n",
       "\n",
       "    .dataframe tbody tr th {\n",
       "        vertical-align: top;\n",
       "    }\n",
       "\n",
       "    .dataframe thead th {\n",
       "        text-align: right;\n",
       "    }\n",
       "</style>\n",
       "<table border=\"1\" class=\"dataframe\">\n",
       "  <thead>\n",
       "    <tr style=\"text-align: right;\">\n",
       "      <th></th>\n",
       "      <th>merchant_category_Education</th>\n",
       "      <th>merchant_category_Entertainment</th>\n",
       "      <th>merchant_category_Gas</th>\n",
       "      <th>merchant_category_Grocery</th>\n",
       "      <th>merchant_category_Healthcare</th>\n",
       "      <th>merchant_category_Restaurant</th>\n",
       "      <th>merchant_category_Retail</th>\n",
       "      <th>merchant_category_Travel</th>\n",
       "      <th>card_type_Basic Credit</th>\n",
       "      <th>card_type_Basic Debit</th>\n",
       "      <th>...</th>\n",
       "      <th>amount</th>\n",
       "      <th>currency</th>\n",
       "      <th>country</th>\n",
       "      <th>city</th>\n",
       "      <th>card_present</th>\n",
       "      <th>device_fingerprint</th>\n",
       "      <th>distance_from_home</th>\n",
       "      <th>high_risk_merchant</th>\n",
       "      <th>transaction_hour</th>\n",
       "      <th>weekend_transaction</th>\n",
       "    </tr>\n",
       "  </thead>\n",
       "  <tbody>\n",
       "    <tr>\n",
       "      <th>0</th>\n",
       "      <td>2.650966</td>\n",
       "      <td>-0.375515</td>\n",
       "      <td>-0.379615</td>\n",
       "      <td>-0.381025</td>\n",
       "      <td>-0.375225</td>\n",
       "      <td>-0.379125</td>\n",
       "      <td>-0.375746</td>\n",
       "      <td>-0.380219</td>\n",
       "      <td>-0.482342</td>\n",
       "      <td>-0.511328</td>\n",
       "      <td>...</td>\n",
       "      <td>-0.203529</td>\n",
       "      <td>0.298276</td>\n",
       "      <td>0.967928</td>\n",
       "      <td>0.264946</td>\n",
       "      <td>-0.305804</td>\n",
       "      <td>-0.441743</td>\n",
       "      <td>1.459160</td>\n",
       "      <td>-0.577183</td>\n",
       "      <td>1.049544</td>\n",
       "      <td>-0.588139</td>\n",
       "    </tr>\n",
       "    <tr>\n",
       "      <th>1</th>\n",
       "      <td>2.650966</td>\n",
       "      <td>-0.375515</td>\n",
       "      <td>-0.379615</td>\n",
       "      <td>-0.381025</td>\n",
       "      <td>-0.375225</td>\n",
       "      <td>-0.379125</td>\n",
       "      <td>-0.375746</td>\n",
       "      <td>-0.380219</td>\n",
       "      <td>-0.482342</td>\n",
       "      <td>-0.511328</td>\n",
       "      <td>...</td>\n",
       "      <td>-0.062088</td>\n",
       "      <td>0.296319</td>\n",
       "      <td>0.965219</td>\n",
       "      <td>0.264946</td>\n",
       "      <td>-0.305804</td>\n",
       "      <td>-0.213108</td>\n",
       "      <td>-0.685326</td>\n",
       "      <td>-0.577183</td>\n",
       "      <td>1.663208</td>\n",
       "      <td>-0.588139</td>\n",
       "    </tr>\n",
       "    <tr>\n",
       "      <th>2</th>\n",
       "      <td>-0.377221</td>\n",
       "      <td>-0.375515</td>\n",
       "      <td>-0.379615</td>\n",
       "      <td>-0.381025</td>\n",
       "      <td>2.665068</td>\n",
       "      <td>-0.379125</td>\n",
       "      <td>-0.375746</td>\n",
       "      <td>-0.380219</td>\n",
       "      <td>-0.482342</td>\n",
       "      <td>-0.511328</td>\n",
       "      <td>...</td>\n",
       "      <td>-0.267323</td>\n",
       "      <td>-0.993571</td>\n",
       "      <td>-0.820265</td>\n",
       "      <td>0.264946</td>\n",
       "      <td>3.270070</td>\n",
       "      <td>-1.127648</td>\n",
       "      <td>1.459160</td>\n",
       "      <td>-0.577183</td>\n",
       "      <td>0.742713</td>\n",
       "      <td>1.700278</td>\n",
       "    </tr>\n",
       "    <tr>\n",
       "      <th>3</th>\n",
       "      <td>-0.377221</td>\n",
       "      <td>-0.375515</td>\n",
       "      <td>-0.379615</td>\n",
       "      <td>2.624502</td>\n",
       "      <td>-0.375225</td>\n",
       "      <td>-0.379125</td>\n",
       "      <td>-0.375746</td>\n",
       "      <td>-0.380219</td>\n",
       "      <td>-0.482342</td>\n",
       "      <td>-0.511328</td>\n",
       "      <td>...</td>\n",
       "      <td>-0.230255</td>\n",
       "      <td>0.343295</td>\n",
       "      <td>1.030244</td>\n",
       "      <td>0.264946</td>\n",
       "      <td>-0.305804</td>\n",
       "      <td>-1.127648</td>\n",
       "      <td>1.459160</td>\n",
       "      <td>-0.577183</td>\n",
       "      <td>1.202960</td>\n",
       "      <td>1.700278</td>\n",
       "    </tr>\n",
       "    <tr>\n",
       "      <th>4</th>\n",
       "      <td>-0.377221</td>\n",
       "      <td>-0.375515</td>\n",
       "      <td>-0.379615</td>\n",
       "      <td>-0.381025</td>\n",
       "      <td>2.665068</td>\n",
       "      <td>-0.379125</td>\n",
       "      <td>-0.375746</td>\n",
       "      <td>-0.380219</td>\n",
       "      <td>-0.482342</td>\n",
       "      <td>-0.511328</td>\n",
       "      <td>...</td>\n",
       "      <td>-0.266386</td>\n",
       "      <td>-1.240196</td>\n",
       "      <td>-1.161647</td>\n",
       "      <td>-3.776224</td>\n",
       "      <td>-0.305804</td>\n",
       "      <td>0.244162</td>\n",
       "      <td>-0.685326</td>\n",
       "      <td>-0.577183</td>\n",
       "      <td>-1.098278</td>\n",
       "      <td>1.700278</td>\n",
       "    </tr>\n",
       "    <tr>\n",
       "      <th>...</th>\n",
       "      <td>...</td>\n",
       "      <td>...</td>\n",
       "      <td>...</td>\n",
       "      <td>...</td>\n",
       "      <td>...</td>\n",
       "      <td>...</td>\n",
       "      <td>...</td>\n",
       "      <td>...</td>\n",
       "      <td>...</td>\n",
       "      <td>...</td>\n",
       "      <td>...</td>\n",
       "      <td>...</td>\n",
       "      <td>...</td>\n",
       "      <td>...</td>\n",
       "      <td>...</td>\n",
       "      <td>...</td>\n",
       "      <td>...</td>\n",
       "      <td>...</td>\n",
       "      <td>...</td>\n",
       "      <td>...</td>\n",
       "      <td>...</td>\n",
       "    </tr>\n",
       "    <tr>\n",
       "      <th>59865</th>\n",
       "      <td>2.650966</td>\n",
       "      <td>-0.375515</td>\n",
       "      <td>-0.379615</td>\n",
       "      <td>-0.381025</td>\n",
       "      <td>-0.375225</td>\n",
       "      <td>-0.379125</td>\n",
       "      <td>-0.375746</td>\n",
       "      <td>-0.380219</td>\n",
       "      <td>2.073217</td>\n",
       "      <td>-0.511328</td>\n",
       "      <td>...</td>\n",
       "      <td>-0.271495</td>\n",
       "      <td>-0.686920</td>\n",
       "      <td>-0.395795</td>\n",
       "      <td>0.264946</td>\n",
       "      <td>-0.305804</td>\n",
       "      <td>-0.441743</td>\n",
       "      <td>-0.685326</td>\n",
       "      <td>-0.577183</td>\n",
       "      <td>0.129049</td>\n",
       "      <td>-0.588139</td>\n",
       "    </tr>\n",
       "    <tr>\n",
       "      <th>59866</th>\n",
       "      <td>-0.377221</td>\n",
       "      <td>-0.375515</td>\n",
       "      <td>-0.379615</td>\n",
       "      <td>2.624502</td>\n",
       "      <td>-0.375225</td>\n",
       "      <td>-0.379125</td>\n",
       "      <td>-0.375746</td>\n",
       "      <td>-0.380219</td>\n",
       "      <td>-0.482342</td>\n",
       "      <td>-0.511328</td>\n",
       "      <td>...</td>\n",
       "      <td>0.711951</td>\n",
       "      <td>0.675391</td>\n",
       "      <td>1.489936</td>\n",
       "      <td>0.264946</td>\n",
       "      <td>-0.305804</td>\n",
       "      <td>0.472798</td>\n",
       "      <td>-0.685326</td>\n",
       "      <td>-0.577183</td>\n",
       "      <td>0.435881</td>\n",
       "      <td>1.700278</td>\n",
       "    </tr>\n",
       "    <tr>\n",
       "      <th>59867</th>\n",
       "      <td>-0.377221</td>\n",
       "      <td>-0.375515</td>\n",
       "      <td>-0.379615</td>\n",
       "      <td>-0.381025</td>\n",
       "      <td>-0.375225</td>\n",
       "      <td>-0.379125</td>\n",
       "      <td>2.661371</td>\n",
       "      <td>-0.380219</td>\n",
       "      <td>-0.482342</td>\n",
       "      <td>-0.511328</td>\n",
       "      <td>...</td>\n",
       "      <td>0.592385</td>\n",
       "      <td>0.296319</td>\n",
       "      <td>0.965219</td>\n",
       "      <td>0.264946</td>\n",
       "      <td>-0.305804</td>\n",
       "      <td>-0.441743</td>\n",
       "      <td>-0.685326</td>\n",
       "      <td>-0.577183</td>\n",
       "      <td>0.589297</td>\n",
       "      <td>1.700278</td>\n",
       "    </tr>\n",
       "    <tr>\n",
       "      <th>59868</th>\n",
       "      <td>-0.377221</td>\n",
       "      <td>2.663012</td>\n",
       "      <td>-0.379615</td>\n",
       "      <td>-0.381025</td>\n",
       "      <td>-0.375225</td>\n",
       "      <td>-0.379125</td>\n",
       "      <td>-0.375746</td>\n",
       "      <td>-0.380219</td>\n",
       "      <td>-0.482342</td>\n",
       "      <td>1.955690</td>\n",
       "      <td>...</td>\n",
       "      <td>-0.271976</td>\n",
       "      <td>0.343295</td>\n",
       "      <td>1.030244</td>\n",
       "      <td>0.264946</td>\n",
       "      <td>-0.305804</td>\n",
       "      <td>-0.670378</td>\n",
       "      <td>-0.685326</td>\n",
       "      <td>1.732552</td>\n",
       "      <td>-1.251694</td>\n",
       "      <td>-0.588139</td>\n",
       "    </tr>\n",
       "    <tr>\n",
       "      <th>59869</th>\n",
       "      <td>2.650966</td>\n",
       "      <td>-0.375515</td>\n",
       "      <td>-0.379615</td>\n",
       "      <td>-0.381025</td>\n",
       "      <td>-0.375225</td>\n",
       "      <td>-0.379125</td>\n",
       "      <td>-0.375746</td>\n",
       "      <td>-0.380219</td>\n",
       "      <td>-0.482342</td>\n",
       "      <td>-0.511328</td>\n",
       "      <td>...</td>\n",
       "      <td>-0.272057</td>\n",
       "      <td>-0.993571</td>\n",
       "      <td>-0.820265</td>\n",
       "      <td>0.264946</td>\n",
       "      <td>-0.305804</td>\n",
       "      <td>0.930068</td>\n",
       "      <td>-0.685326</td>\n",
       "      <td>-0.577183</td>\n",
       "      <td>1.509792</td>\n",
       "      <td>1.700278</td>\n",
       "    </tr>\n",
       "  </tbody>\n",
       "</table>\n",
       "<p>59870 rows × 38 columns</p>\n",
       "</div>"
      ],
      "text/plain": [
       "       merchant_category_Education  merchant_category_Entertainment  \\\n",
       "0                         2.650966                        -0.375515   \n",
       "1                         2.650966                        -0.375515   \n",
       "2                        -0.377221                        -0.375515   \n",
       "3                        -0.377221                        -0.375515   \n",
       "4                        -0.377221                        -0.375515   \n",
       "...                            ...                              ...   \n",
       "59865                     2.650966                        -0.375515   \n",
       "59866                    -0.377221                        -0.375515   \n",
       "59867                    -0.377221                        -0.375515   \n",
       "59868                    -0.377221                         2.663012   \n",
       "59869                     2.650966                        -0.375515   \n",
       "\n",
       "       merchant_category_Gas  merchant_category_Grocery  \\\n",
       "0                  -0.379615                  -0.381025   \n",
       "1                  -0.379615                  -0.381025   \n",
       "2                  -0.379615                  -0.381025   \n",
       "3                  -0.379615                   2.624502   \n",
       "4                  -0.379615                  -0.381025   \n",
       "...                      ...                        ...   \n",
       "59865              -0.379615                  -0.381025   \n",
       "59866              -0.379615                   2.624502   \n",
       "59867              -0.379615                  -0.381025   \n",
       "59868              -0.379615                  -0.381025   \n",
       "59869              -0.379615                  -0.381025   \n",
       "\n",
       "       merchant_category_Healthcare  merchant_category_Restaurant  \\\n",
       "0                         -0.375225                     -0.379125   \n",
       "1                         -0.375225                     -0.379125   \n",
       "2                          2.665068                     -0.379125   \n",
       "3                         -0.375225                     -0.379125   \n",
       "4                          2.665068                     -0.379125   \n",
       "...                             ...                           ...   \n",
       "59865                     -0.375225                     -0.379125   \n",
       "59866                     -0.375225                     -0.379125   \n",
       "59867                     -0.375225                     -0.379125   \n",
       "59868                     -0.375225                     -0.379125   \n",
       "59869                     -0.375225                     -0.379125   \n",
       "\n",
       "       merchant_category_Retail  merchant_category_Travel  \\\n",
       "0                     -0.375746                 -0.380219   \n",
       "1                     -0.375746                 -0.380219   \n",
       "2                     -0.375746                 -0.380219   \n",
       "3                     -0.375746                 -0.380219   \n",
       "4                     -0.375746                 -0.380219   \n",
       "...                         ...                       ...   \n",
       "59865                 -0.375746                 -0.380219   \n",
       "59866                 -0.375746                 -0.380219   \n",
       "59867                  2.661371                 -0.380219   \n",
       "59868                 -0.375746                 -0.380219   \n",
       "59869                 -0.375746                 -0.380219   \n",
       "\n",
       "       card_type_Basic Credit  card_type_Basic Debit  ...    amount  currency  \\\n",
       "0                   -0.482342              -0.511328  ... -0.203529  0.298276   \n",
       "1                   -0.482342              -0.511328  ... -0.062088  0.296319   \n",
       "2                   -0.482342              -0.511328  ... -0.267323 -0.993571   \n",
       "3                   -0.482342              -0.511328  ... -0.230255  0.343295   \n",
       "4                   -0.482342              -0.511328  ... -0.266386 -1.240196   \n",
       "...                       ...                    ...  ...       ...       ...   \n",
       "59865                2.073217              -0.511328  ... -0.271495 -0.686920   \n",
       "59866               -0.482342              -0.511328  ...  0.711951  0.675391   \n",
       "59867               -0.482342              -0.511328  ...  0.592385  0.296319   \n",
       "59868               -0.482342               1.955690  ... -0.271976  0.343295   \n",
       "59869               -0.482342              -0.511328  ... -0.272057 -0.993571   \n",
       "\n",
       "        country      city  card_present  device_fingerprint  \\\n",
       "0      0.967928  0.264946     -0.305804           -0.441743   \n",
       "1      0.965219  0.264946     -0.305804           -0.213108   \n",
       "2     -0.820265  0.264946      3.270070           -1.127648   \n",
       "3      1.030244  0.264946     -0.305804           -1.127648   \n",
       "4     -1.161647 -3.776224     -0.305804            0.244162   \n",
       "...         ...       ...           ...                 ...   \n",
       "59865 -0.395795  0.264946     -0.305804           -0.441743   \n",
       "59866  1.489936  0.264946     -0.305804            0.472798   \n",
       "59867  0.965219  0.264946     -0.305804           -0.441743   \n",
       "59868  1.030244  0.264946     -0.305804           -0.670378   \n",
       "59869 -0.820265  0.264946     -0.305804            0.930068   \n",
       "\n",
       "       distance_from_home  high_risk_merchant  transaction_hour  \\\n",
       "0                1.459160           -0.577183          1.049544   \n",
       "1               -0.685326           -0.577183          1.663208   \n",
       "2                1.459160           -0.577183          0.742713   \n",
       "3                1.459160           -0.577183          1.202960   \n",
       "4               -0.685326           -0.577183         -1.098278   \n",
       "...                   ...                 ...               ...   \n",
       "59865           -0.685326           -0.577183          0.129049   \n",
       "59866           -0.685326           -0.577183          0.435881   \n",
       "59867           -0.685326           -0.577183          0.589297   \n",
       "59868           -0.685326            1.732552         -1.251694   \n",
       "59869           -0.685326           -0.577183          1.509792   \n",
       "\n",
       "       weekend_transaction  \n",
       "0                -0.588139  \n",
       "1                -0.588139  \n",
       "2                 1.700278  \n",
       "3                 1.700278  \n",
       "4                 1.700278  \n",
       "...                    ...  \n",
       "59865            -0.588139  \n",
       "59866             1.700278  \n",
       "59867             1.700278  \n",
       "59868            -0.588139  \n",
       "59869             1.700278  \n",
       "\n",
       "[59870 rows x 38 columns]"
      ]
     },
     "execution_count": 186,
     "metadata": {},
     "output_type": "execute_result"
    }
   ],
   "source": [
    "X_train_enc"
   ]
  },
  {
   "cell_type": "markdown",
   "id": "cdf2b0fe",
   "metadata": {},
   "source": [
    "#### rough"
   ]
  },
  {
   "cell_type": "code",
   "execution_count": null,
   "id": "8058153a",
   "metadata": {},
   "outputs": [],
   "source": [
    "ct= ColumnTransformer(transformers=[\n",
    "    ('one-hot', OneHotEncoder(), one_enc),\n",
    "    ('ordinal', OrdinalEncoder(categories= [['medium', 'large']]), ord_enc),\n",
    "    # ('bin-value', LabelEncoder(), label_enc)\n",
    "    \n",
    "], remainder='passthrough')\n",
    "\n",
    "le= LabelEncoder()\n",
    "sc= StandardScaler()\n",
    "\n",
    "# encode features\n",
    "X_train_enc= ct.fit_transform(X_train)\n",
    "X_test_enc= ct.transform(X_test)\n",
    "\n",
    "# encode label \n",
    "y_train_enc= le.fit_transform(y_train)\n",
    "y_test_enc= le.transform(y_test)\n",
    "\n",
    "# standardarize \n",
    "X_train_enc= sc.fit_transform(X_train_enc)  # only numeric and frequency encoded columns only \n",
    "X_test_enc= sc.transform(X_test_enc)"
   ]
  },
  {
   "cell_type": "code",
   "execution_count": null,
   "id": "5982d963",
   "metadata": {},
   "outputs": [
    {
     "data": {
      "text/plain": [
       "Index(['merchant_category', 'merchant_type', 'merchant', 'amount', 'currency',\n",
       "       'country', 'city', 'city_size', 'card_type', 'card_present', 'device',\n",
       "       'channel', 'device_fingerprint', 'distance_from_home',\n",
       "       'high_risk_merchant', 'transaction_hour', 'weekend_transaction'],\n",
       "      dtype='object')"
      ]
     },
     "execution_count": 195,
     "metadata": {},
     "output_type": "execute_result"
    }
   ],
   "source": [
    "X_train.columns"
   ]
  },
  {
   "cell_type": "code",
   "execution_count": null,
   "id": "1b7ae74c",
   "metadata": {},
   "outputs": [
    {
     "data": {
      "text/plain": [
       "17"
      ]
     },
     "execution_count": 198,
     "metadata": {},
     "output_type": "execute_result"
    }
   ],
   "source": [
    "len(['Healthcare', 3124, 812, 724949.27, 7143, 7143, 47401, 'medium', 'Basic Debit', False, 'Chrome', 'web', 1,\n",
    "             1, False, 0, False])"
   ]
  },
  {
   "cell_type": "code",
   "execution_count": null,
   "id": "c0640d7d",
   "metadata": {},
   "outputs": [
    {
     "data": {
      "text/plain": [
       "17"
      ]
     },
     "execution_count": 200,
     "metadata": {},
     "output_type": "execute_result"
    }
   ],
   "source": [
    "len(X_train.columns)"
   ]
  },
  {
   "cell_type": "code",
   "execution_count": null,
   "id": "dc70585c",
   "metadata": {},
   "outputs": [
    {
     "name": "stderr",
     "output_type": "stream",
     "text": [
      "c:\\Users\\me\\ML\\ML2\\ML3\\project\\heart-disease\\v_env\\Lib\\site-packages\\sklearn\\base.py:493: UserWarning: X does not have valid feature names, but LogisticRegression was fitted with feature names\n",
      "  warnings.warn(\n"
     ]
    },
    {
     "data": {
      "text/plain": [
       "array([0], dtype=int64)"
      ]
     },
     "execution_count": 206,
     "metadata": {},
     "output_type": "execute_result"
    }
   ],
   "source": [
    "model.predict(sc.transform(ct.transform(pd.DataFrame([['Healthcare', 3124, 812, 724949.27, 7143, 7143, 47401, 'medium', 'Basic Debit', False, 'Chrome', 'web', 1,\n",
    "             1, False, 0, False]], columns=list(X_train.columns)))))"
   ]
  },
  {
   "cell_type": "code",
   "execution_count": null,
   "id": "e71be398",
   "metadata": {},
   "outputs": [
    {
     "data": {
      "text/plain": [
       "array([0], dtype=int64)"
      ]
     },
     "execution_count": 211,
     "metadata": {},
     "output_type": "execute_result"
    }
   ],
   "source": [
    "model.predict(pd.DataFrame(sc.transform(ct.transform(pd.DataFrame([['Healthcare', 3124, 812, 724949.27, 7143, 7143, 47401, 'medium', 'Basic Debit', False, 'Chrome', 'web', 1,\n",
    "             1, False, 0, False]], columns=list(X_train.columns)))), columns=feature_names))"
   ]
  },
  {
   "cell_type": "code",
   "execution_count": null,
   "id": "1523c38c",
   "metadata": {},
   "outputs": [
    {
     "data": {
      "text/plain": [
       "array([False])"
      ]
     },
     "execution_count": 210,
     "metadata": {},
     "output_type": "execute_result"
    }
   ],
   "source": [
    "make_prediction(pd.DataFrame([['Healthcare', 3124, 812, 724949.27, 7143, 7143, 47401, 'medium', 'Basic Debit', False, 'Chrome', 'web', 1,\n",
    "             1, False, 0, False]], columns=X_train.columns))"
   ]
  },
  {
   "cell_type": "code",
   "execution_count": null,
   "id": "5c2bce93",
   "metadata": {},
   "outputs": [
    {
     "ename": "ValueError",
     "evalue": "Specifying the columns using strings is only supported for dataframes.",
     "output_type": "error",
     "traceback": [
      "\u001b[1;31m---------------------------------------------------------------------------\u001b[0m",
      "\u001b[1;31mValueError\u001b[0m                                Traceback (most recent call last)",
      "Cell \u001b[1;32mIn[184], line 1\u001b[0m\n\u001b[1;32m----> 1\u001b[0m pred \u001b[38;5;241m=\u001b[39m model\u001b[38;5;241m.\u001b[39mpredict(sc\u001b[38;5;241m.\u001b[39mtransform(ct\u001b[38;5;241m.\u001b[39mtransform(\n\u001b[0;32m      2\u001b[0m             [[\u001b[38;5;124m'\u001b[39m\u001b[38;5;124mHealthcare\u001b[39m\u001b[38;5;124m'\u001b[39m, \u001b[38;5;241m3124\u001b[39m, \u001b[38;5;241m812\u001b[39m, \u001b[38;5;241m724949.27\u001b[39m, \u001b[38;5;241m7143\u001b[39m, \u001b[38;5;241m7143\u001b[39m, \u001b[38;5;241m47401\u001b[39m, \u001b[38;5;124m'\u001b[39m\u001b[38;5;124mmedium\u001b[39m\u001b[38;5;124m'\u001b[39m, \u001b[38;5;124m'\u001b[39m\u001b[38;5;124mBasic Debit\u001b[39m\u001b[38;5;124m'\u001b[39m, \u001b[38;5;28;01mFalse\u001b[39;00m, \u001b[38;5;124m'\u001b[39m\u001b[38;5;124mChrome\u001b[39m\u001b[38;5;124m'\u001b[39m, \u001b[38;5;124m'\u001b[39m\u001b[38;5;124mweb\u001b[39m\u001b[38;5;124m'\u001b[39m, \u001b[38;5;241m1\u001b[39m,\n\u001b[0;32m      3\u001b[0m              \u001b[38;5;241m1\u001b[39m, \u001b[38;5;28;01mFalse\u001b[39;00m, \u001b[38;5;241m0\u001b[39m, \u001b[38;5;28;01mFalse\u001b[39;00m]])))\n\u001b[0;32m      5\u001b[0m \u001b[38;5;28mprint\u001b[39m(pred)\n",
      "File \u001b[1;32mc:\\Users\\me\\ML\\ML2\\ML3\\project\\heart-disease\\v_env\\Lib\\site-packages\\sklearn\\utils\\_set_output.py:316\u001b[0m, in \u001b[0;36m_wrap_method_output.<locals>.wrapped\u001b[1;34m(self, X, *args, **kwargs)\u001b[0m\n\u001b[0;32m    314\u001b[0m \u001b[38;5;129m@wraps\u001b[39m(f)\n\u001b[0;32m    315\u001b[0m \u001b[38;5;28;01mdef\u001b[39;00m \u001b[38;5;21mwrapped\u001b[39m(\u001b[38;5;28mself\u001b[39m, X, \u001b[38;5;241m*\u001b[39margs, \u001b[38;5;241m*\u001b[39m\u001b[38;5;241m*\u001b[39mkwargs):\n\u001b[1;32m--> 316\u001b[0m     data_to_wrap \u001b[38;5;241m=\u001b[39m f(\u001b[38;5;28mself\u001b[39m, X, \u001b[38;5;241m*\u001b[39margs, \u001b[38;5;241m*\u001b[39m\u001b[38;5;241m*\u001b[39mkwargs)\n\u001b[0;32m    317\u001b[0m     \u001b[38;5;28;01mif\u001b[39;00m \u001b[38;5;28misinstance\u001b[39m(data_to_wrap, \u001b[38;5;28mtuple\u001b[39m):\n\u001b[0;32m    318\u001b[0m         \u001b[38;5;66;03m# only wrap the first output for cross decomposition\u001b[39;00m\n\u001b[0;32m    319\u001b[0m         return_tuple \u001b[38;5;241m=\u001b[39m (\n\u001b[0;32m    320\u001b[0m             _wrap_data_with_container(method, data_to_wrap[\u001b[38;5;241m0\u001b[39m], X, \u001b[38;5;28mself\u001b[39m),\n\u001b[0;32m    321\u001b[0m             \u001b[38;5;241m*\u001b[39mdata_to_wrap[\u001b[38;5;241m1\u001b[39m:],\n\u001b[0;32m    322\u001b[0m         )\n",
      "File \u001b[1;32mc:\\Users\\me\\ML\\ML2\\ML3\\project\\heart-disease\\v_env\\Lib\\site-packages\\sklearn\\compose\\_column_transformer.py:1076\u001b[0m, in \u001b[0;36mColumnTransformer.transform\u001b[1;34m(self, X, **params)\u001b[0m\n\u001b[0;32m   1073\u001b[0m \u001b[38;5;28;01melse\u001b[39;00m:\n\u001b[0;32m   1074\u001b[0m     routed_params \u001b[38;5;241m=\u001b[39m \u001b[38;5;28mself\u001b[39m\u001b[38;5;241m.\u001b[39m_get_empty_routing()\n\u001b[1;32m-> 1076\u001b[0m Xs \u001b[38;5;241m=\u001b[39m \u001b[38;5;28mself\u001b[39m\u001b[38;5;241m.\u001b[39m_call_func_on_transformers(\n\u001b[0;32m   1077\u001b[0m     X,\n\u001b[0;32m   1078\u001b[0m     \u001b[38;5;28;01mNone\u001b[39;00m,\n\u001b[0;32m   1079\u001b[0m     _transform_one,\n\u001b[0;32m   1080\u001b[0m     column_as_labels\u001b[38;5;241m=\u001b[39mfit_dataframe_and_transform_dataframe,\n\u001b[0;32m   1081\u001b[0m     routed_params\u001b[38;5;241m=\u001b[39mrouted_params,\n\u001b[0;32m   1082\u001b[0m )\n\u001b[0;32m   1083\u001b[0m \u001b[38;5;28mself\u001b[39m\u001b[38;5;241m.\u001b[39m_validate_output(Xs)\n\u001b[0;32m   1085\u001b[0m \u001b[38;5;28;01mif\u001b[39;00m \u001b[38;5;129;01mnot\u001b[39;00m Xs:\n\u001b[0;32m   1086\u001b[0m     \u001b[38;5;66;03m# All transformers are None\u001b[39;00m\n",
      "File \u001b[1;32mc:\\Users\\me\\ML\\ML2\\ML3\\project\\heart-disease\\v_env\\Lib\\site-packages\\sklearn\\compose\\_column_transformer.py:877\u001b[0m, in \u001b[0;36mColumnTransformer._call_func_on_transformers\u001b[1;34m(self, X, y, func, column_as_labels, routed_params)\u001b[0m\n\u001b[0;32m    872\u001b[0m         \u001b[38;5;28;01melse\u001b[39;00m:  \u001b[38;5;66;03m# func is _transform_one\u001b[39;00m\n\u001b[0;32m    873\u001b[0m             extra_args \u001b[38;5;241m=\u001b[39m {}\n\u001b[0;32m    874\u001b[0m         jobs\u001b[38;5;241m.\u001b[39mappend(\n\u001b[0;32m    875\u001b[0m             delayed(func)(\n\u001b[0;32m    876\u001b[0m                 transformer\u001b[38;5;241m=\u001b[39mclone(trans) \u001b[38;5;28;01mif\u001b[39;00m \u001b[38;5;129;01mnot\u001b[39;00m fitted \u001b[38;5;28;01melse\u001b[39;00m trans,\n\u001b[1;32m--> 877\u001b[0m                 X\u001b[38;5;241m=\u001b[39m_safe_indexing(X, columns, axis\u001b[38;5;241m=\u001b[39m\u001b[38;5;241m1\u001b[39m),\n\u001b[0;32m    878\u001b[0m                 y\u001b[38;5;241m=\u001b[39my,\n\u001b[0;32m    879\u001b[0m                 weight\u001b[38;5;241m=\u001b[39mweight,\n\u001b[0;32m    880\u001b[0m                 \u001b[38;5;241m*\u001b[39m\u001b[38;5;241m*\u001b[39mextra_args,\n\u001b[0;32m    881\u001b[0m                 params\u001b[38;5;241m=\u001b[39mrouted_params[name],\n\u001b[0;32m    882\u001b[0m             )\n\u001b[0;32m    883\u001b[0m         )\n\u001b[0;32m    885\u001b[0m     \u001b[38;5;28;01mreturn\u001b[39;00m Parallel(n_jobs\u001b[38;5;241m=\u001b[39m\u001b[38;5;28mself\u001b[39m\u001b[38;5;241m.\u001b[39mn_jobs)(jobs)\n\u001b[0;32m    887\u001b[0m \u001b[38;5;28;01mexcept\u001b[39;00m \u001b[38;5;167;01mValueError\u001b[39;00m \u001b[38;5;28;01mas\u001b[39;00m e:\n",
      "File \u001b[1;32mc:\\Users\\me\\ML\\ML2\\ML3\\project\\heart-disease\\v_env\\Lib\\site-packages\\sklearn\\utils\\_indexing.py:256\u001b[0m, in \u001b[0;36m_safe_indexing\u001b[1;34m(X, indices, axis)\u001b[0m\n\u001b[0;32m    245\u001b[0m     \u001b[38;5;28;01mraise\u001b[39;00m \u001b[38;5;167;01mValueError\u001b[39;00m(\n\u001b[0;32m    246\u001b[0m         \u001b[38;5;124m\"\u001b[39m\u001b[38;5;124m'\u001b[39m\u001b[38;5;124mX\u001b[39m\u001b[38;5;124m'\u001b[39m\u001b[38;5;124m should be a 2D NumPy array, 2D sparse matrix or \u001b[39m\u001b[38;5;124m\"\u001b[39m\n\u001b[0;32m    247\u001b[0m         \u001b[38;5;124m\"\u001b[39m\u001b[38;5;124mdataframe when indexing the columns (i.e. \u001b[39m\u001b[38;5;124m'\u001b[39m\u001b[38;5;124maxis=1\u001b[39m\u001b[38;5;124m'\u001b[39m\u001b[38;5;124m). \u001b[39m\u001b[38;5;124m\"\u001b[39m\n\u001b[0;32m    248\u001b[0m         \u001b[38;5;124m\"\u001b[39m\u001b[38;5;124mGot \u001b[39m\u001b[38;5;132;01m{}\u001b[39;00m\u001b[38;5;124m instead with \u001b[39m\u001b[38;5;132;01m{}\u001b[39;00m\u001b[38;5;124m dimension(s).\u001b[39m\u001b[38;5;124m\"\u001b[39m\u001b[38;5;241m.\u001b[39mformat(\u001b[38;5;28mtype\u001b[39m(X), \u001b[38;5;28mlen\u001b[39m(X\u001b[38;5;241m.\u001b[39mshape))\n\u001b[0;32m    249\u001b[0m     )\n\u001b[0;32m    251\u001b[0m \u001b[38;5;28;01mif\u001b[39;00m (\n\u001b[0;32m    252\u001b[0m     axis \u001b[38;5;241m==\u001b[39m \u001b[38;5;241m1\u001b[39m\n\u001b[0;32m    253\u001b[0m     \u001b[38;5;129;01mand\u001b[39;00m indices_dtype \u001b[38;5;241m==\u001b[39m \u001b[38;5;124m\"\u001b[39m\u001b[38;5;124mstr\u001b[39m\u001b[38;5;124m\"\u001b[39m\n\u001b[0;32m    254\u001b[0m     \u001b[38;5;129;01mand\u001b[39;00m \u001b[38;5;129;01mnot\u001b[39;00m (_is_pandas_df(X) \u001b[38;5;129;01mor\u001b[39;00m _use_interchange_protocol(X))\n\u001b[0;32m    255\u001b[0m ):\n\u001b[1;32m--> 256\u001b[0m     \u001b[38;5;28;01mraise\u001b[39;00m \u001b[38;5;167;01mValueError\u001b[39;00m(\n\u001b[0;32m    257\u001b[0m         \u001b[38;5;124m\"\u001b[39m\u001b[38;5;124mSpecifying the columns using strings is only supported for dataframes.\u001b[39m\u001b[38;5;124m\"\u001b[39m\n\u001b[0;32m    258\u001b[0m     )\n\u001b[0;32m    260\u001b[0m \u001b[38;5;28;01mif\u001b[39;00m \u001b[38;5;28mhasattr\u001b[39m(X, \u001b[38;5;124m\"\u001b[39m\u001b[38;5;124miloc\u001b[39m\u001b[38;5;124m\"\u001b[39m):\n\u001b[0;32m    261\u001b[0m     \u001b[38;5;66;03m# TODO: we should probably use _is_pandas_df_or_series(X) instead but this\u001b[39;00m\n\u001b[0;32m    262\u001b[0m     \u001b[38;5;66;03m# would require updating some tests such as test_train_test_split_mock_pandas.\u001b[39;00m\n\u001b[0;32m    263\u001b[0m     \u001b[38;5;28;01mreturn\u001b[39;00m _pandas_indexing(X, indices, indices_dtype, axis\u001b[38;5;241m=\u001b[39maxis)\n",
      "\u001b[1;31mValueError\u001b[0m: Specifying the columns using strings is only supported for dataframes."
     ]
    }
   ],
   "source": [
    "pred = model.predict(sc.transform(ct.transform(\n",
    "            [['Healthcare', 3124, 812, 724949.27, 7143, 7143, 47401, 'medium', 'Basic Debit', False, 'Chrome', 'web', 1,\n",
    "             1, False, 0, False]])))\n",
    "\n",
    "print(pred)"
   ]
  },
  {
   "cell_type": "markdown",
   "id": "a0777231",
   "metadata": {},
   "source": []
  },
  {
   "cell_type": "markdown",
   "id": "58070983",
   "metadata": {},
   "source": [
    "other models"
   ]
  },
  {
   "cell_type": "code",
   "execution_count": null,
   "id": "a0e7e250",
   "metadata": {},
   "outputs": [],
   "source": [
    "from sklearn.ensemble import RandomForestClassifier\n",
    "model_2= RandomForestClassifier()"
   ]
  },
  {
   "cell_type": "code",
   "execution_count": null,
   "id": "a8847c6a",
   "metadata": {},
   "outputs": [],
   "source": []
  },
  {
   "cell_type": "code",
   "execution_count": null,
   "id": "03163254",
   "metadata": {},
   "outputs": [
    {
     "data": {
      "text/html": [
       "<style>#sk-container-id-4 {\n",
       "  /* Definition of color scheme common for light and dark mode */\n",
       "  --sklearn-color-text: black;\n",
       "  --sklearn-color-line: gray;\n",
       "  /* Definition of color scheme for unfitted estimators */\n",
       "  --sklearn-color-unfitted-level-0: #fff5e6;\n",
       "  --sklearn-color-unfitted-level-1: #f6e4d2;\n",
       "  --sklearn-color-unfitted-level-2: #ffe0b3;\n",
       "  --sklearn-color-unfitted-level-3: chocolate;\n",
       "  /* Definition of color scheme for fitted estimators */\n",
       "  --sklearn-color-fitted-level-0: #f0f8ff;\n",
       "  --sklearn-color-fitted-level-1: #d4ebff;\n",
       "  --sklearn-color-fitted-level-2: #b3dbfd;\n",
       "  --sklearn-color-fitted-level-3: cornflowerblue;\n",
       "\n",
       "  /* Specific color for light theme */\n",
       "  --sklearn-color-text-on-default-background: var(--sg-text-color, var(--theme-code-foreground, var(--jp-content-font-color1, black)));\n",
       "  --sklearn-color-background: var(--sg-background-color, var(--theme-background, var(--jp-layout-color0, white)));\n",
       "  --sklearn-color-border-box: var(--sg-text-color, var(--theme-code-foreground, var(--jp-content-font-color1, black)));\n",
       "  --sklearn-color-icon: #696969;\n",
       "\n",
       "  @media (prefers-color-scheme: dark) {\n",
       "    /* Redefinition of color scheme for dark theme */\n",
       "    --sklearn-color-text-on-default-background: var(--sg-text-color, var(--theme-code-foreground, var(--jp-content-font-color1, white)));\n",
       "    --sklearn-color-background: var(--sg-background-color, var(--theme-background, var(--jp-layout-color0, #111)));\n",
       "    --sklearn-color-border-box: var(--sg-text-color, var(--theme-code-foreground, var(--jp-content-font-color1, white)));\n",
       "    --sklearn-color-icon: #878787;\n",
       "  }\n",
       "}\n",
       "\n",
       "#sk-container-id-4 {\n",
       "  color: var(--sklearn-color-text);\n",
       "}\n",
       "\n",
       "#sk-container-id-4 pre {\n",
       "  padding: 0;\n",
       "}\n",
       "\n",
       "#sk-container-id-4 input.sk-hidden--visually {\n",
       "  border: 0;\n",
       "  clip: rect(1px 1px 1px 1px);\n",
       "  clip: rect(1px, 1px, 1px, 1px);\n",
       "  height: 1px;\n",
       "  margin: -1px;\n",
       "  overflow: hidden;\n",
       "  padding: 0;\n",
       "  position: absolute;\n",
       "  width: 1px;\n",
       "}\n",
       "\n",
       "#sk-container-id-4 div.sk-dashed-wrapped {\n",
       "  border: 1px dashed var(--sklearn-color-line);\n",
       "  margin: 0 0.4em 0.5em 0.4em;\n",
       "  box-sizing: border-box;\n",
       "  padding-bottom: 0.4em;\n",
       "  background-color: var(--sklearn-color-background);\n",
       "}\n",
       "\n",
       "#sk-container-id-4 div.sk-container {\n",
       "  /* jupyter's `normalize.less` sets `[hidden] { display: none; }`\n",
       "     but bootstrap.min.css set `[hidden] { display: none !important; }`\n",
       "     so we also need the `!important` here to be able to override the\n",
       "     default hidden behavior on the sphinx rendered scikit-learn.org.\n",
       "     See: https://github.com/scikit-learn/scikit-learn/issues/21755 */\n",
       "  display: inline-block !important;\n",
       "  position: relative;\n",
       "}\n",
       "\n",
       "#sk-container-id-4 div.sk-text-repr-fallback {\n",
       "  display: none;\n",
       "}\n",
       "\n",
       "div.sk-parallel-item,\n",
       "div.sk-serial,\n",
       "div.sk-item {\n",
       "  /* draw centered vertical line to link estimators */\n",
       "  background-image: linear-gradient(var(--sklearn-color-text-on-default-background), var(--sklearn-color-text-on-default-background));\n",
       "  background-size: 2px 100%;\n",
       "  background-repeat: no-repeat;\n",
       "  background-position: center center;\n",
       "}\n",
       "\n",
       "/* Parallel-specific style estimator block */\n",
       "\n",
       "#sk-container-id-4 div.sk-parallel-item::after {\n",
       "  content: \"\";\n",
       "  width: 100%;\n",
       "  border-bottom: 2px solid var(--sklearn-color-text-on-default-background);\n",
       "  flex-grow: 1;\n",
       "}\n",
       "\n",
       "#sk-container-id-4 div.sk-parallel {\n",
       "  display: flex;\n",
       "  align-items: stretch;\n",
       "  justify-content: center;\n",
       "  background-color: var(--sklearn-color-background);\n",
       "  position: relative;\n",
       "}\n",
       "\n",
       "#sk-container-id-4 div.sk-parallel-item {\n",
       "  display: flex;\n",
       "  flex-direction: column;\n",
       "}\n",
       "\n",
       "#sk-container-id-4 div.sk-parallel-item:first-child::after {\n",
       "  align-self: flex-end;\n",
       "  width: 50%;\n",
       "}\n",
       "\n",
       "#sk-container-id-4 div.sk-parallel-item:last-child::after {\n",
       "  align-self: flex-start;\n",
       "  width: 50%;\n",
       "}\n",
       "\n",
       "#sk-container-id-4 div.sk-parallel-item:only-child::after {\n",
       "  width: 0;\n",
       "}\n",
       "\n",
       "/* Serial-specific style estimator block */\n",
       "\n",
       "#sk-container-id-4 div.sk-serial {\n",
       "  display: flex;\n",
       "  flex-direction: column;\n",
       "  align-items: center;\n",
       "  background-color: var(--sklearn-color-background);\n",
       "  padding-right: 1em;\n",
       "  padding-left: 1em;\n",
       "}\n",
       "\n",
       "\n",
       "/* Toggleable style: style used for estimator/Pipeline/ColumnTransformer box that is\n",
       "clickable and can be expanded/collapsed.\n",
       "- Pipeline and ColumnTransformer use this feature and define the default style\n",
       "- Estimators will overwrite some part of the style using the `sk-estimator` class\n",
       "*/\n",
       "\n",
       "/* Pipeline and ColumnTransformer style (default) */\n",
       "\n",
       "#sk-container-id-4 div.sk-toggleable {\n",
       "  /* Default theme specific background. It is overwritten whether we have a\n",
       "  specific estimator or a Pipeline/ColumnTransformer */\n",
       "  background-color: var(--sklearn-color-background);\n",
       "}\n",
       "\n",
       "/* Toggleable label */\n",
       "#sk-container-id-4 label.sk-toggleable__label {\n",
       "  cursor: pointer;\n",
       "  display: block;\n",
       "  width: 100%;\n",
       "  margin-bottom: 0;\n",
       "  padding: 0.5em;\n",
       "  box-sizing: border-box;\n",
       "  text-align: center;\n",
       "}\n",
       "\n",
       "#sk-container-id-4 label.sk-toggleable__label-arrow:before {\n",
       "  /* Arrow on the left of the label */\n",
       "  content: \"▸\";\n",
       "  float: left;\n",
       "  margin-right: 0.25em;\n",
       "  color: var(--sklearn-color-icon);\n",
       "}\n",
       "\n",
       "#sk-container-id-4 label.sk-toggleable__label-arrow:hover:before {\n",
       "  color: var(--sklearn-color-text);\n",
       "}\n",
       "\n",
       "/* Toggleable content - dropdown */\n",
       "\n",
       "#sk-container-id-4 div.sk-toggleable__content {\n",
       "  max-height: 0;\n",
       "  max-width: 0;\n",
       "  overflow: hidden;\n",
       "  text-align: left;\n",
       "  /* unfitted */\n",
       "  background-color: var(--sklearn-color-unfitted-level-0);\n",
       "}\n",
       "\n",
       "#sk-container-id-4 div.sk-toggleable__content.fitted {\n",
       "  /* fitted */\n",
       "  background-color: var(--sklearn-color-fitted-level-0);\n",
       "}\n",
       "\n",
       "#sk-container-id-4 div.sk-toggleable__content pre {\n",
       "  margin: 0.2em;\n",
       "  border-radius: 0.25em;\n",
       "  color: var(--sklearn-color-text);\n",
       "  /* unfitted */\n",
       "  background-color: var(--sklearn-color-unfitted-level-0);\n",
       "}\n",
       "\n",
       "#sk-container-id-4 div.sk-toggleable__content.fitted pre {\n",
       "  /* unfitted */\n",
       "  background-color: var(--sklearn-color-fitted-level-0);\n",
       "}\n",
       "\n",
       "#sk-container-id-4 input.sk-toggleable__control:checked~div.sk-toggleable__content {\n",
       "  /* Expand drop-down */\n",
       "  max-height: 200px;\n",
       "  max-width: 100%;\n",
       "  overflow: auto;\n",
       "}\n",
       "\n",
       "#sk-container-id-4 input.sk-toggleable__control:checked~label.sk-toggleable__label-arrow:before {\n",
       "  content: \"▾\";\n",
       "}\n",
       "\n",
       "/* Pipeline/ColumnTransformer-specific style */\n",
       "\n",
       "#sk-container-id-4 div.sk-label input.sk-toggleable__control:checked~label.sk-toggleable__label {\n",
       "  color: var(--sklearn-color-text);\n",
       "  background-color: var(--sklearn-color-unfitted-level-2);\n",
       "}\n",
       "\n",
       "#sk-container-id-4 div.sk-label.fitted input.sk-toggleable__control:checked~label.sk-toggleable__label {\n",
       "  background-color: var(--sklearn-color-fitted-level-2);\n",
       "}\n",
       "\n",
       "/* Estimator-specific style */\n",
       "\n",
       "/* Colorize estimator box */\n",
       "#sk-container-id-4 div.sk-estimator input.sk-toggleable__control:checked~label.sk-toggleable__label {\n",
       "  /* unfitted */\n",
       "  background-color: var(--sklearn-color-unfitted-level-2);\n",
       "}\n",
       "\n",
       "#sk-container-id-4 div.sk-estimator.fitted input.sk-toggleable__control:checked~label.sk-toggleable__label {\n",
       "  /* fitted */\n",
       "  background-color: var(--sklearn-color-fitted-level-2);\n",
       "}\n",
       "\n",
       "#sk-container-id-4 div.sk-label label.sk-toggleable__label,\n",
       "#sk-container-id-4 div.sk-label label {\n",
       "  /* The background is the default theme color */\n",
       "  color: var(--sklearn-color-text-on-default-background);\n",
       "}\n",
       "\n",
       "/* On hover, darken the color of the background */\n",
       "#sk-container-id-4 div.sk-label:hover label.sk-toggleable__label {\n",
       "  color: var(--sklearn-color-text);\n",
       "  background-color: var(--sklearn-color-unfitted-level-2);\n",
       "}\n",
       "\n",
       "/* Label box, darken color on hover, fitted */\n",
       "#sk-container-id-4 div.sk-label.fitted:hover label.sk-toggleable__label.fitted {\n",
       "  color: var(--sklearn-color-text);\n",
       "  background-color: var(--sklearn-color-fitted-level-2);\n",
       "}\n",
       "\n",
       "/* Estimator label */\n",
       "\n",
       "#sk-container-id-4 div.sk-label label {\n",
       "  font-family: monospace;\n",
       "  font-weight: bold;\n",
       "  display: inline-block;\n",
       "  line-height: 1.2em;\n",
       "}\n",
       "\n",
       "#sk-container-id-4 div.sk-label-container {\n",
       "  text-align: center;\n",
       "}\n",
       "\n",
       "/* Estimator-specific */\n",
       "#sk-container-id-4 div.sk-estimator {\n",
       "  font-family: monospace;\n",
       "  border: 1px dotted var(--sklearn-color-border-box);\n",
       "  border-radius: 0.25em;\n",
       "  box-sizing: border-box;\n",
       "  margin-bottom: 0.5em;\n",
       "  /* unfitted */\n",
       "  background-color: var(--sklearn-color-unfitted-level-0);\n",
       "}\n",
       "\n",
       "#sk-container-id-4 div.sk-estimator.fitted {\n",
       "  /* fitted */\n",
       "  background-color: var(--sklearn-color-fitted-level-0);\n",
       "}\n",
       "\n",
       "/* on hover */\n",
       "#sk-container-id-4 div.sk-estimator:hover {\n",
       "  /* unfitted */\n",
       "  background-color: var(--sklearn-color-unfitted-level-2);\n",
       "}\n",
       "\n",
       "#sk-container-id-4 div.sk-estimator.fitted:hover {\n",
       "  /* fitted */\n",
       "  background-color: var(--sklearn-color-fitted-level-2);\n",
       "}\n",
       "\n",
       "/* Specification for estimator info (e.g. \"i\" and \"?\") */\n",
       "\n",
       "/* Common style for \"i\" and \"?\" */\n",
       "\n",
       ".sk-estimator-doc-link,\n",
       "a:link.sk-estimator-doc-link,\n",
       "a:visited.sk-estimator-doc-link {\n",
       "  float: right;\n",
       "  font-size: smaller;\n",
       "  line-height: 1em;\n",
       "  font-family: monospace;\n",
       "  background-color: var(--sklearn-color-background);\n",
       "  border-radius: 1em;\n",
       "  height: 1em;\n",
       "  width: 1em;\n",
       "  text-decoration: none !important;\n",
       "  margin-left: 1ex;\n",
       "  /* unfitted */\n",
       "  border: var(--sklearn-color-unfitted-level-1) 1pt solid;\n",
       "  color: var(--sklearn-color-unfitted-level-1);\n",
       "}\n",
       "\n",
       ".sk-estimator-doc-link.fitted,\n",
       "a:link.sk-estimator-doc-link.fitted,\n",
       "a:visited.sk-estimator-doc-link.fitted {\n",
       "  /* fitted */\n",
       "  border: var(--sklearn-color-fitted-level-1) 1pt solid;\n",
       "  color: var(--sklearn-color-fitted-level-1);\n",
       "}\n",
       "\n",
       "/* On hover */\n",
       "div.sk-estimator:hover .sk-estimator-doc-link:hover,\n",
       ".sk-estimator-doc-link:hover,\n",
       "div.sk-label-container:hover .sk-estimator-doc-link:hover,\n",
       ".sk-estimator-doc-link:hover {\n",
       "  /* unfitted */\n",
       "  background-color: var(--sklearn-color-unfitted-level-3);\n",
       "  color: var(--sklearn-color-background);\n",
       "  text-decoration: none;\n",
       "}\n",
       "\n",
       "div.sk-estimator.fitted:hover .sk-estimator-doc-link.fitted:hover,\n",
       ".sk-estimator-doc-link.fitted:hover,\n",
       "div.sk-label-container:hover .sk-estimator-doc-link.fitted:hover,\n",
       ".sk-estimator-doc-link.fitted:hover {\n",
       "  /* fitted */\n",
       "  background-color: var(--sklearn-color-fitted-level-3);\n",
       "  color: var(--sklearn-color-background);\n",
       "  text-decoration: none;\n",
       "}\n",
       "\n",
       "/* Span, style for the box shown on hovering the info icon */\n",
       ".sk-estimator-doc-link span {\n",
       "  display: none;\n",
       "  z-index: 9999;\n",
       "  position: relative;\n",
       "  font-weight: normal;\n",
       "  right: .2ex;\n",
       "  padding: .5ex;\n",
       "  margin: .5ex;\n",
       "  width: min-content;\n",
       "  min-width: 20ex;\n",
       "  max-width: 50ex;\n",
       "  color: var(--sklearn-color-text);\n",
       "  box-shadow: 2pt 2pt 4pt #999;\n",
       "  /* unfitted */\n",
       "  background: var(--sklearn-color-unfitted-level-0);\n",
       "  border: .5pt solid var(--sklearn-color-unfitted-level-3);\n",
       "}\n",
       "\n",
       ".sk-estimator-doc-link.fitted span {\n",
       "  /* fitted */\n",
       "  background: var(--sklearn-color-fitted-level-0);\n",
       "  border: var(--sklearn-color-fitted-level-3);\n",
       "}\n",
       "\n",
       ".sk-estimator-doc-link:hover span {\n",
       "  display: block;\n",
       "}\n",
       "\n",
       "/* \"?\"-specific style due to the `<a>` HTML tag */\n",
       "\n",
       "#sk-container-id-4 a.estimator_doc_link {\n",
       "  float: right;\n",
       "  font-size: 1rem;\n",
       "  line-height: 1em;\n",
       "  font-family: monospace;\n",
       "  background-color: var(--sklearn-color-background);\n",
       "  border-radius: 1rem;\n",
       "  height: 1rem;\n",
       "  width: 1rem;\n",
       "  text-decoration: none;\n",
       "  /* unfitted */\n",
       "  color: var(--sklearn-color-unfitted-level-1);\n",
       "  border: var(--sklearn-color-unfitted-level-1) 1pt solid;\n",
       "}\n",
       "\n",
       "#sk-container-id-4 a.estimator_doc_link.fitted {\n",
       "  /* fitted */\n",
       "  border: var(--sklearn-color-fitted-level-1) 1pt solid;\n",
       "  color: var(--sklearn-color-fitted-level-1);\n",
       "}\n",
       "\n",
       "/* On hover */\n",
       "#sk-container-id-4 a.estimator_doc_link:hover {\n",
       "  /* unfitted */\n",
       "  background-color: var(--sklearn-color-unfitted-level-3);\n",
       "  color: var(--sklearn-color-background);\n",
       "  text-decoration: none;\n",
       "}\n",
       "\n",
       "#sk-container-id-4 a.estimator_doc_link.fitted:hover {\n",
       "  /* fitted */\n",
       "  background-color: var(--sklearn-color-fitted-level-3);\n",
       "}\n",
       "</style><div id=\"sk-container-id-4\" class=\"sk-top-container\"><div class=\"sk-text-repr-fallback\"><pre>RandomForestClassifier()</pre><b>In a Jupyter environment, please rerun this cell to show the HTML representation or trust the notebook. <br />On GitHub, the HTML representation is unable to render, please try loading this page with nbviewer.org.</b></div><div class=\"sk-container\" hidden><div class=\"sk-item\"><div class=\"sk-estimator fitted sk-toggleable\"><input class=\"sk-toggleable__control sk-hidden--visually\" id=\"sk-estimator-id-4\" type=\"checkbox\" checked><label for=\"sk-estimator-id-4\" class=\"sk-toggleable__label fitted sk-toggleable__label-arrow fitted\">&nbsp;&nbsp;RandomForestClassifier<a class=\"sk-estimator-doc-link fitted\" rel=\"noreferrer\" target=\"_blank\" href=\"https://scikit-learn.org/1.5/modules/generated/sklearn.ensemble.RandomForestClassifier.html\">?<span>Documentation for RandomForestClassifier</span></a><span class=\"sk-estimator-doc-link fitted\">i<span>Fitted</span></span></label><div class=\"sk-toggleable__content fitted\"><pre>RandomForestClassifier()</pre></div> </div></div></div></div>"
      ],
      "text/plain": [
       "RandomForestClassifier()"
      ]
     },
     "execution_count": 78,
     "metadata": {},
     "output_type": "execute_result"
    }
   ],
   "source": [
    "model_2.fit(X_train_enc, y_train_enc)"
   ]
  },
  {
   "cell_type": "code",
   "execution_count": null,
   "id": "eedda532",
   "metadata": {},
   "outputs": [
    {
     "data": {
      "text/plain": [
       "0.960515766969535"
      ]
     },
     "execution_count": 79,
     "metadata": {},
     "output_type": "execute_result"
    }
   ],
   "source": [
    "model_2.score(X_test_enc, y_test_enc)"
   ]
  },
  {
   "cell_type": "code",
   "execution_count": null,
   "id": "f3557c8c",
   "metadata": {},
   "outputs": [],
   "source": []
  }
 ],
 "metadata": {
  "kernelspec": {
   "display_name": "Python 3",
   "language": "python",
   "name": "python3"
  },
  "language_info": {
   "codemirror_mode": {
    "name": "ipython",
    "version": 3
   },
   "file_extension": ".py",
   "mimetype": "text/x-python",
   "name": "python",
   "nbconvert_exporter": "python",
   "pygments_lexer": "ipython3",
   "version": "3.12.8"
  }
 },
 "nbformat": 4,
 "nbformat_minor": 5
}
